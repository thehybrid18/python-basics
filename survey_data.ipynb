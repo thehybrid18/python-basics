{
  "nbformat": 4,
  "nbformat_minor": 0,
  "metadata": {
    "colab": {
      "name": "survey_data",
      "provenance": [],
      "collapsed_sections": []
    },
    "kernelspec": {
      "name": "python3",
      "display_name": "Python 3"
    }
  },
  "cells": [
    {
      "cell_type": "code",
      "metadata": {
        "colab_type": "code",
        "outputId": "227dc1a3-9e62-4d7a-c385-8d10356579e4",
        "id": "4hzHvj1jiF3f",
        "colab": {
          "base_uri": "https://localhost:8080/",
          "height": 86
        }
      },
      "source": [
        "import pandas as pd\n",
        "import re\n",
        "survey= pd.read_csv('https://thehybrid18-bucket.s3.us-east-2.amazonaws.com/Data_Scientist_Test/survey_data.csv')\n",
        "'''\n",
        "Let's answer a few questions about this very large dataset\n",
        "1. average salary?\n",
        "2. average gpa of employees whose last names start with A?\n",
        "3. most popular job tile?\n",
        "4. average age of married people\n",
        "'''\n",
        "\n",
        "\n",
        "#we can use regex to create a boolean list of last names that start with A\n",
        "#last_A= filtered dataframe with A lastnames\n",
        "last_A=survey[survey.name.str.contains('[A-Z]\\w+\\s[A]\\w+')]\n",
        "\n",
        "\n",
        "\n",
        "#manager is the most popular job title\n",
        "\n",
        "\n",
        "most_pop=survey['job'].value_counts().index\n",
        "\n",
        "\n",
        "print('1. $', round(survey.salary.mean(), 2), '\\n2.', round(last_A.gpa.mean(), 2), '\\n3.', most_pop[0], '\\n4.', survey[survey['married']==True].age.median())\n",
        "\n"
      ],
      "execution_count": 12,
      "outputs": [
        {
          "output_type": "stream",
          "text": [
            "1. $ 509800.01 \n",
            "2. 2.5 \n",
            "3. Manager \n",
            "4. 49.0\n"
          ],
          "name": "stdout"
        }
      ]
    },
    {
      "cell_type": "code",
      "metadata": {
        "id": "MvNuuJDYtGop",
        "colab_type": "code",
        "outputId": "f11df7a2-8509-4d15-b8cf-5b01a89ba601",
        "colab": {
          "base_uri": "https://localhost:8080/",
          "height": 223
        }
      },
      "source": [
        "#view the most popular job titles\n",
        "survey['job'].value_counts()"
      ],
      "execution_count": 0,
      "outputs": [
        {
          "output_type": "execute_result",
          "data": {
            "text/plain": [
              "Manager        34659\n",
              "Engineer       19786\n",
              "Worker         19692\n",
              "Assistant      15734\n",
              "Consultant     13250\n",
              "               ...  \n",
              "Processing       457\n",
              "Groundsman       455\n",
              "Millwright       454\n",
              "Greengrocer      449\n",
              "Medal            439\n",
              "Name: job, Length: 952, dtype: int64"
            ]
          },
          "metadata": {
            "tags": []
          },
          "execution_count": 2
        }
      ]
    },
    {
      "cell_type": "code",
      "metadata": {
        "id": "88cSqvxm5O7Q",
        "colab_type": "code",
        "outputId": "044ab518-1421-44f4-c75b-336a5397a77a",
        "colab": {
          "base_uri": "https://localhost:8080/",
          "height": 665
        }
      },
      "source": [
        "survey.head(20)"
      ],
      "execution_count": 0,
      "outputs": [
        {
          "output_type": "execute_result",
          "data": {
            "text/html": [
              "<div>\n",
              "<style scoped>\n",
              "    .dataframe tbody tr th:only-of-type {\n",
              "        vertical-align: middle;\n",
              "    }\n",
              "\n",
              "    .dataframe tbody tr th {\n",
              "        vertical-align: top;\n",
              "    }\n",
              "\n",
              "    .dataframe thead th {\n",
              "        text-align: right;\n",
              "    }\n",
              "</style>\n",
              "<table border=\"1\" class=\"dataframe\">\n",
              "  <thead>\n",
              "    <tr style=\"text-align: right;\">\n",
              "      <th></th>\n",
              "      <th>name</th>\n",
              "      <th>location</th>\n",
              "      <th>job</th>\n",
              "      <th>salary</th>\n",
              "      <th>age</th>\n",
              "      <th>married</th>\n",
              "      <th>gpa</th>\n",
              "    </tr>\n",
              "  </thead>\n",
              "  <tbody>\n",
              "    <tr>\n",
              "      <th>0</th>\n",
              "      <td>Prudy Noelani</td>\n",
              "      <td>Poyntelle</td>\n",
              "      <td>Piano</td>\n",
              "      <td>874297</td>\n",
              "      <td>32</td>\n",
              "      <td>False</td>\n",
              "      <td>2.44</td>\n",
              "    </tr>\n",
              "    <tr>\n",
              "      <th>1</th>\n",
              "      <td>Libbi Alisan</td>\n",
              "      <td>Manteno</td>\n",
              "      <td>Proof</td>\n",
              "      <td>193955</td>\n",
              "      <td>51</td>\n",
              "      <td>False</td>\n",
              "      <td>1.09</td>\n",
              "    </tr>\n",
              "    <tr>\n",
              "      <th>2</th>\n",
              "      <td>Lyndsay Colley</td>\n",
              "      <td>Raywood</td>\n",
              "      <td>Maker</td>\n",
              "      <td>857501</td>\n",
              "      <td>75</td>\n",
              "      <td>False</td>\n",
              "      <td>1.87</td>\n",
              "    </tr>\n",
              "    <tr>\n",
              "      <th>3</th>\n",
              "      <td>Jeni Tine</td>\n",
              "      <td>Rosemead</td>\n",
              "      <td>Solicitor</td>\n",
              "      <td>664514</td>\n",
              "      <td>57</td>\n",
              "      <td>True</td>\n",
              "      <td>1.44</td>\n",
              "    </tr>\n",
              "    <tr>\n",
              "      <th>4</th>\n",
              "      <td>Cecil Lon</td>\n",
              "      <td>Drasco</td>\n",
              "      <td>Nanny</td>\n",
              "      <td>875426</td>\n",
              "      <td>49</td>\n",
              "      <td>True</td>\n",
              "      <td>2.02</td>\n",
              "    </tr>\n",
              "    <tr>\n",
              "      <th>5</th>\n",
              "      <td>Elaine Groscr</td>\n",
              "      <td>Broadford</td>\n",
              "      <td>Floor</td>\n",
              "      <td>198265</td>\n",
              "      <td>23</td>\n",
              "      <td>True</td>\n",
              "      <td>3.64</td>\n",
              "    </tr>\n",
              "    <tr>\n",
              "      <th>6</th>\n",
              "      <td>Beryle Cleon</td>\n",
              "      <td>Omena</td>\n",
              "      <td>Aircraft</td>\n",
              "      <td>785053</td>\n",
              "      <td>31</td>\n",
              "      <td>True</td>\n",
              "      <td>1.88</td>\n",
              "    </tr>\n",
              "    <tr>\n",
              "      <th>7</th>\n",
              "      <td>Rebeka Zosema</td>\n",
              "      <td>Ider</td>\n",
              "      <td>Lift</td>\n",
              "      <td>103743</td>\n",
              "      <td>74</td>\n",
              "      <td>True</td>\n",
              "      <td>1.60</td>\n",
              "    </tr>\n",
              "    <tr>\n",
              "      <th>8</th>\n",
              "      <td>Lyndel Jennica</td>\n",
              "      <td>Parkdale</td>\n",
              "      <td>Highway</td>\n",
              "      <td>322870</td>\n",
              "      <td>46</td>\n",
              "      <td>True</td>\n",
              "      <td>1.62</td>\n",
              "    </tr>\n",
              "    <tr>\n",
              "      <th>9</th>\n",
              "      <td>Shina Mateusz</td>\n",
              "      <td>Forestburgh</td>\n",
              "      <td>Geologist</td>\n",
              "      <td>819946</td>\n",
              "      <td>57</td>\n",
              "      <td>True</td>\n",
              "      <td>1.02</td>\n",
              "    </tr>\n",
              "    <tr>\n",
              "      <th>10</th>\n",
              "      <td>Ginger Daffi</td>\n",
              "      <td>Archcape</td>\n",
              "      <td>Pharmacist</td>\n",
              "      <td>567148</td>\n",
              "      <td>52</td>\n",
              "      <td>True</td>\n",
              "      <td>1.82</td>\n",
              "    </tr>\n",
              "    <tr>\n",
              "      <th>11</th>\n",
              "      <td>Melanie Gudren</td>\n",
              "      <td>Castanea</td>\n",
              "      <td>Armourer</td>\n",
              "      <td>103217</td>\n",
              "      <td>74</td>\n",
              "      <td>False</td>\n",
              "      <td>3.45</td>\n",
              "    </tr>\n",
              "    <tr>\n",
              "      <th>12</th>\n",
              "      <td>Cheryl Vincenty</td>\n",
              "      <td>Bloomsdale</td>\n",
              "      <td>Agent</td>\n",
              "      <td>458170</td>\n",
              "      <td>56</td>\n",
              "      <td>False</td>\n",
              "      <td>1.93</td>\n",
              "    </tr>\n",
              "    <tr>\n",
              "      <th>13</th>\n",
              "      <td>Meredith Lorelei</td>\n",
              "      <td>Woodbine</td>\n",
              "      <td>Restorer</td>\n",
              "      <td>470801</td>\n",
              "      <td>71</td>\n",
              "      <td>False</td>\n",
              "      <td>2.06</td>\n",
              "    </tr>\n",
              "    <tr>\n",
              "      <th>14</th>\n",
              "      <td>Felisha Rosanna</td>\n",
              "      <td>Innis</td>\n",
              "      <td>Manager</td>\n",
              "      <td>246408</td>\n",
              "      <td>29</td>\n",
              "      <td>False</td>\n",
              "      <td>1.87</td>\n",
              "    </tr>\n",
              "    <tr>\n",
              "      <th>15</th>\n",
              "      <td>Nettle Brittaney</td>\n",
              "      <td>Mainesburg</td>\n",
              "      <td>Body</td>\n",
              "      <td>828615</td>\n",
              "      <td>63</td>\n",
              "      <td>False</td>\n",
              "      <td>1.54</td>\n",
              "    </tr>\n",
              "    <tr>\n",
              "      <th>16</th>\n",
              "      <td>Brigitte Packston</td>\n",
              "      <td>Owaneco</td>\n",
              "      <td>Oil</td>\n",
              "      <td>104498</td>\n",
              "      <td>33</td>\n",
              "      <td>True</td>\n",
              "      <td>3.64</td>\n",
              "    </tr>\n",
              "    <tr>\n",
              "      <th>17</th>\n",
              "      <td>Jesselyn Druci</td>\n",
              "      <td>Mesick</td>\n",
              "      <td>Club</td>\n",
              "      <td>176587</td>\n",
              "      <td>32</td>\n",
              "      <td>True</td>\n",
              "      <td>2.25</td>\n",
              "    </tr>\n",
              "    <tr>\n",
              "      <th>18</th>\n",
              "      <td>Yoko Igenia</td>\n",
              "      <td>Connellsville</td>\n",
              "      <td>Building</td>\n",
              "      <td>637441</td>\n",
              "      <td>44</td>\n",
              "      <td>False</td>\n",
              "      <td>2.14</td>\n",
              "    </tr>\n",
              "    <tr>\n",
              "      <th>19</th>\n",
              "      <td>Pattie Faruq</td>\n",
              "      <td>Folsomville</td>\n",
              "      <td>Chaplain</td>\n",
              "      <td>509168</td>\n",
              "      <td>36</td>\n",
              "      <td>False</td>\n",
              "      <td>3.06</td>\n",
              "    </tr>\n",
              "  </tbody>\n",
              "</table>\n",
              "</div>"
            ],
            "text/plain": [
              "                 name       location         job  salary  age  married   gpa\n",
              "0       Prudy Noelani      Poyntelle       Piano  874297   32    False  2.44\n",
              "1        Libbi Alisan        Manteno       Proof  193955   51    False  1.09\n",
              "2      Lyndsay Colley        Raywood       Maker  857501   75    False  1.87\n",
              "3           Jeni Tine       Rosemead   Solicitor  664514   57     True  1.44\n",
              "4           Cecil Lon         Drasco       Nanny  875426   49     True  2.02\n",
              "5       Elaine Groscr      Broadford       Floor  198265   23     True  3.64\n",
              "6        Beryle Cleon          Omena    Aircraft  785053   31     True  1.88\n",
              "7       Rebeka Zosema           Ider        Lift  103743   74     True  1.60\n",
              "8      Lyndel Jennica       Parkdale     Highway  322870   46     True  1.62\n",
              "9       Shina Mateusz    Forestburgh   Geologist  819946   57     True  1.02\n",
              "10       Ginger Daffi       Archcape  Pharmacist  567148   52     True  1.82\n",
              "11     Melanie Gudren       Castanea    Armourer  103217   74    False  3.45\n",
              "12    Cheryl Vincenty     Bloomsdale       Agent  458170   56    False  1.93\n",
              "13   Meredith Lorelei       Woodbine    Restorer  470801   71    False  2.06\n",
              "14    Felisha Rosanna          Innis     Manager  246408   29    False  1.87\n",
              "15   Nettle Brittaney     Mainesburg        Body  828615   63    False  1.54\n",
              "16  Brigitte Packston        Owaneco         Oil  104498   33     True  3.64\n",
              "17     Jesselyn Druci         Mesick        Club  176587   32     True  2.25\n",
              "18        Yoko Igenia  Connellsville    Building  637441   44    False  2.14\n",
              "19       Pattie Faruq    Folsomville    Chaplain  509168   36    False  3.06"
            ]
          },
          "metadata": {
            "tags": []
          },
          "execution_count": 3
        }
      ]
    },
    {
      "cell_type": "code",
      "metadata": {
        "id": "gDEzldpy296U",
        "colab_type": "code",
        "outputId": "7285e781-f683-4460-89f9-9319c67e31e7",
        "colab": {
          "base_uri": "https://localhost:8080/",
          "height": 155
        }
      },
      "source": [
        "#any null values?\n",
        "survey.isnull().sum()"
      ],
      "execution_count": 0,
      "outputs": [
        {
          "output_type": "execute_result",
          "data": {
            "text/plain": [
              "name        0\n",
              "location    0\n",
              "job         0\n",
              "salary      0\n",
              "age         0\n",
              "married     0\n",
              "gpa         0\n",
              "dtype: int64"
            ]
          },
          "metadata": {
            "tags": []
          },
          "execution_count": 4
        }
      ]
    },
    {
      "cell_type": "code",
      "metadata": {
        "id": "Op_VpFaji7NA",
        "colab_type": "code",
        "outputId": "826395c4-eb80-429e-9c07-e3115e44a377",
        "colab": {
          "base_uri": "https://localhost:8080/",
          "height": 34
        }
      },
      "source": [
        "len(last_A)"
      ],
      "execution_count": 0,
      "outputs": [
        {
          "output_type": "execute_result",
          "data": {
            "text/plain": [
              "70324"
            ]
          },
          "metadata": {
            "tags": []
          },
          "execution_count": 5
        }
      ]
    },
    {
      "cell_type": "code",
      "metadata": {
        "id": "VYfVqJ62wBLD",
        "colab_type": "code",
        "outputId": "1793f0d4-4994-4050-f93e-0e3a50dd0d9e",
        "colab": {
          "base_uri": "https://localhost:8080/",
          "height": 34
        }
      },
      "source": [
        "len(survey)"
      ],
      "execution_count": 0,
      "outputs": [
        {
          "output_type": "execute_result",
          "data": {
            "text/plain": [
              "1000000"
            ]
          },
          "metadata": {
            "tags": []
          },
          "execution_count": 6
        }
      ]
    },
    {
      "cell_type": "code",
      "metadata": {
        "id": "PAU30ca8FEwW",
        "colab_type": "code",
        "outputId": "4fda9add-bac2-43a5-a416-0a6417c4339a",
        "colab": {
          "base_uri": "https://localhost:8080/",
          "height": 417
        }
      },
      "source": [
        "last_A"
      ],
      "execution_count": 0,
      "outputs": [
        {
          "output_type": "execute_result",
          "data": {
            "text/html": [
              "<div>\n",
              "<style scoped>\n",
              "    .dataframe tbody tr th:only-of-type {\n",
              "        vertical-align: middle;\n",
              "    }\n",
              "\n",
              "    .dataframe tbody tr th {\n",
              "        vertical-align: top;\n",
              "    }\n",
              "\n",
              "    .dataframe thead th {\n",
              "        text-align: right;\n",
              "    }\n",
              "</style>\n",
              "<table border=\"1\" class=\"dataframe\">\n",
              "  <thead>\n",
              "    <tr style=\"text-align: right;\">\n",
              "      <th></th>\n",
              "      <th>name</th>\n",
              "      <th>location</th>\n",
              "      <th>job</th>\n",
              "      <th>salary</th>\n",
              "      <th>age</th>\n",
              "      <th>married</th>\n",
              "      <th>gpa</th>\n",
              "    </tr>\n",
              "  </thead>\n",
              "  <tbody>\n",
              "    <tr>\n",
              "      <th>1</th>\n",
              "      <td>Libbi Alisan</td>\n",
              "      <td>Manteno</td>\n",
              "      <td>Proof</td>\n",
              "      <td>193955</td>\n",
              "      <td>51</td>\n",
              "      <td>False</td>\n",
              "      <td>1.09</td>\n",
              "    </tr>\n",
              "    <tr>\n",
              "      <th>29</th>\n",
              "      <td>Kathrine Anjali</td>\n",
              "      <td>Gwinner</td>\n",
              "      <td>Plant</td>\n",
              "      <td>250913</td>\n",
              "      <td>32</td>\n",
              "      <td>True</td>\n",
              "      <td>2.22</td>\n",
              "    </tr>\n",
              "    <tr>\n",
              "      <th>34</th>\n",
              "      <td>Shelbi Axe</td>\n",
              "      <td>Clarksburg</td>\n",
              "      <td>Printer</td>\n",
              "      <td>570498</td>\n",
              "      <td>51</td>\n",
              "      <td>True</td>\n",
              "      <td>1.35</td>\n",
              "    </tr>\n",
              "    <tr>\n",
              "      <th>88</th>\n",
              "      <td>Junette Azalea</td>\n",
              "      <td>Bluffton</td>\n",
              "      <td>Vehicle</td>\n",
              "      <td>275184</td>\n",
              "      <td>71</td>\n",
              "      <td>False</td>\n",
              "      <td>3.16</td>\n",
              "    </tr>\n",
              "    <tr>\n",
              "      <th>131</th>\n",
              "      <td>Floria Asp</td>\n",
              "      <td>Columbiana</td>\n",
              "      <td>Farm</td>\n",
              "      <td>23916</td>\n",
              "      <td>80</td>\n",
              "      <td>False</td>\n",
              "      <td>2.25</td>\n",
              "    </tr>\n",
              "    <tr>\n",
              "      <th>...</th>\n",
              "      <td>...</td>\n",
              "      <td>...</td>\n",
              "      <td>...</td>\n",
              "      <td>...</td>\n",
              "      <td>...</td>\n",
              "      <td>...</td>\n",
              "      <td>...</td>\n",
              "    </tr>\n",
              "    <tr>\n",
              "      <th>999959</th>\n",
              "      <td>Genni Alidia</td>\n",
              "      <td>Weirton</td>\n",
              "      <td>Toy</td>\n",
              "      <td>70243</td>\n",
              "      <td>20</td>\n",
              "      <td>False</td>\n",
              "      <td>2.17</td>\n",
              "    </tr>\n",
              "    <tr>\n",
              "      <th>999970</th>\n",
              "      <td>Lee Aimee</td>\n",
              "      <td>Meade</td>\n",
              "      <td>Laundry</td>\n",
              "      <td>179838</td>\n",
              "      <td>73</td>\n",
              "      <td>True</td>\n",
              "      <td>1.22</td>\n",
              "    </tr>\n",
              "    <tr>\n",
              "      <th>999978</th>\n",
              "      <td>Margalo Alfy</td>\n",
              "      <td>Gervais</td>\n",
              "      <td>Therapist</td>\n",
              "      <td>179214</td>\n",
              "      <td>73</td>\n",
              "      <td>False</td>\n",
              "      <td>2.59</td>\n",
              "    </tr>\n",
              "    <tr>\n",
              "      <th>999983</th>\n",
              "      <td>Malorie Almira</td>\n",
              "      <td>Duffau</td>\n",
              "      <td>Fitter</td>\n",
              "      <td>453843</td>\n",
              "      <td>55</td>\n",
              "      <td>False</td>\n",
              "      <td>2.17</td>\n",
              "    </tr>\n",
              "    <tr>\n",
              "      <th>999993</th>\n",
              "      <td>Ophelie Antonino</td>\n",
              "      <td>Hurtsboro</td>\n",
              "      <td>Machine</td>\n",
              "      <td>622930</td>\n",
              "      <td>69</td>\n",
              "      <td>False</td>\n",
              "      <td>1.26</td>\n",
              "    </tr>\n",
              "  </tbody>\n",
              "</table>\n",
              "<p>70324 rows × 7 columns</p>\n",
              "</div>"
            ],
            "text/plain": [
              "                    name    location        job  salary  age  married   gpa\n",
              "1           Libbi Alisan     Manteno      Proof  193955   51    False  1.09\n",
              "29       Kathrine Anjali     Gwinner      Plant  250913   32     True  2.22\n",
              "34            Shelbi Axe  Clarksburg    Printer  570498   51     True  1.35\n",
              "88        Junette Azalea    Bluffton    Vehicle  275184   71    False  3.16\n",
              "131           Floria Asp  Columbiana       Farm   23916   80    False  2.25\n",
              "...                  ...         ...        ...     ...  ...      ...   ...\n",
              "999959      Genni Alidia     Weirton        Toy   70243   20    False  2.17\n",
              "999970         Lee Aimee       Meade    Laundry  179838   73     True  1.22\n",
              "999978      Margalo Alfy     Gervais  Therapist  179214   73    False  2.59\n",
              "999983    Malorie Almira      Duffau     Fitter  453843   55    False  2.17\n",
              "999993  Ophelie Antonino   Hurtsboro    Machine  622930   69    False  1.26\n",
              "\n",
              "[70324 rows x 7 columns]"
            ]
          },
          "metadata": {
            "tags": []
          },
          "execution_count": 7
        }
      ]
    },
    {
      "cell_type": "code",
      "metadata": {
        "id": "wVRUgjEBCHkz",
        "colab_type": "code",
        "outputId": "047233b8-44bb-40d0-f5a8-d1c3c192138e",
        "colab": {
          "base_uri": "https://localhost:8080/",
          "height": 34
        }
      },
      "source": [
        "survey['salary'].mean()"
      ],
      "execution_count": 0,
      "outputs": [
        {
          "output_type": "execute_result",
          "data": {
            "text/plain": [
              "509800.014999"
            ]
          },
          "metadata": {
            "tags": []
          },
          "execution_count": 8
        }
      ]
    }
  ]
}