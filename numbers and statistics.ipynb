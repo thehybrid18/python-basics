{
  "nbformat": 4,
  "nbformat_minor": 0,
  "metadata": {
    "colab": {
      "name": "20sidedfairdie",
      "provenance": []
    },
    "kernelspec": {
      "name": "python3",
      "display_name": "Python 3"
    }
  },
  "cells": [
    {
      "cell_type": "markdown",
      "metadata": {
        "id": "3srMElW0Chg3",
        "colab_type": "text"
      },
      "source": [
        "In python there are many datatypes, but in dealing with numbers you want to be comfortable with integers, floats, and complex numbers. In intro statistics we cover discrete probability with coin flips. I won't get into the concepts of statistics too much here. I want to cover what we can do with the python language to solve numerical problems.\n",
        "\n",
        "In the next cell I will create a pandas dataframe to simulate 100 flips from a 20 sided die. Pandas utilizes a ton of helpful aggregate functions. We will compare the mean of the field landed_value and its standard deviation to the expected value of the die and its standard deviation (two different things by the way). If I can conceive it I'd like to think that I can model it with math or python. Any number of sides of a die or dimensions in some physics course, anything is possible. "
      ]
    },
    {
      "cell_type": "code",
      "metadata": {
        "id": "G1Sf4beTTRkF",
        "colab_type": "code",
        "outputId": "eb7520ae-e5f9-4575-ca54-6387cf0e5986",
        "colab": {
          "base_uri": "https://localhost:8080/",
          "height": 51
        }
      },
      "source": [
        "import random\n",
        "import pandas as pd\n",
        "testlist=[]\n",
        "for x in range(0,100):\n",
        "  \n",
        "  testlist.append(random.randint(1,20))\n",
        "d={\"landed_value\":testlist}\n",
        "die_flip=pd.DataFrame(data=d)\n",
        "ex=[x*(1/20) for x in range(1,21)] #list comprehensions are very important for data science. Please cover how to generate new lists from sequences!\n",
        "\n",
        "xsquare_p=[x**2*(1/20) for x in range(1,21) ]\n",
        "print(\"average:\", f'the average of the field is {die_flip.landed_value.mean()}', f'and the standard deviation of the field is {round(die_flip.landed_value.std(),2)}',' \\n the expected value:', sum(ex), \" and its standard deviation:\", round(pow((sum(xsquare_p)-(sum(ex))**2),.5), 2))"
      ],
      "execution_count": 25,
      "outputs": [
        {
          "output_type": "stream",
          "text": [
            "average: the average of the field is 11.85 and the standard deviation of the field is 5.59  \n",
            " the expected value: 10.5  and its standard deviation: 5.77\n"
          ],
          "name": "stdout"
        }
      ]
    },
    {
      "cell_type": "code",
      "metadata": {
        "colab_type": "code",
        "outputId": "08e1d7a5-3696-47e1-f976-95ed07416be7",
        "id": "4hzHvj1jiF3f",
        "colab": {
          "base_uri": "https://localhost:8080/",
          "height": 417
        }
      },
      "source": [
        "die_flip\n",
        "\n"
      ],
      "execution_count": 30,
      "outputs": [
        {
          "output_type": "execute_result",
          "data": {
            "text/html": [
              "<div>\n",
              "<style scoped>\n",
              "    .dataframe tbody tr th:only-of-type {\n",
              "        vertical-align: middle;\n",
              "    }\n",
              "\n",
              "    .dataframe tbody tr th {\n",
              "        vertical-align: top;\n",
              "    }\n",
              "\n",
              "    .dataframe thead th {\n",
              "        text-align: right;\n",
              "    }\n",
              "</style>\n",
              "<table border=\"1\" class=\"dataframe\">\n",
              "  <thead>\n",
              "    <tr style=\"text-align: right;\">\n",
              "      <th></th>\n",
              "      <th>landed_value</th>\n",
              "    </tr>\n",
              "  </thead>\n",
              "  <tbody>\n",
              "    <tr>\n",
              "      <th>0</th>\n",
              "      <td>20</td>\n",
              "    </tr>\n",
              "    <tr>\n",
              "      <th>1</th>\n",
              "      <td>20</td>\n",
              "    </tr>\n",
              "    <tr>\n",
              "      <th>2</th>\n",
              "      <td>14</td>\n",
              "    </tr>\n",
              "    <tr>\n",
              "      <th>3</th>\n",
              "      <td>4</td>\n",
              "    </tr>\n",
              "    <tr>\n",
              "      <th>4</th>\n",
              "      <td>1</td>\n",
              "    </tr>\n",
              "    <tr>\n",
              "      <th>...</th>\n",
              "      <td>...</td>\n",
              "    </tr>\n",
              "    <tr>\n",
              "      <th>95</th>\n",
              "      <td>8</td>\n",
              "    </tr>\n",
              "    <tr>\n",
              "      <th>96</th>\n",
              "      <td>7</td>\n",
              "    </tr>\n",
              "    <tr>\n",
              "      <th>97</th>\n",
              "      <td>17</td>\n",
              "    </tr>\n",
              "    <tr>\n",
              "      <th>98</th>\n",
              "      <td>19</td>\n",
              "    </tr>\n",
              "    <tr>\n",
              "      <th>99</th>\n",
              "      <td>4</td>\n",
              "    </tr>\n",
              "  </tbody>\n",
              "</table>\n",
              "<p>100 rows × 1 columns</p>\n",
              "</div>"
            ],
            "text/plain": [
              "    landed_value\n",
              "0             20\n",
              "1             20\n",
              "2             14\n",
              "3              4\n",
              "4              1\n",
              "..           ...\n",
              "95             8\n",
              "96             7\n",
              "97            17\n",
              "98            19\n",
              "99             4\n",
              "\n",
              "[100 rows x 1 columns]"
            ]
          },
          "metadata": {
            "tags": []
          },
          "execution_count": 30
        }
      ]
    },
    {
      "cell_type": "markdown",
      "metadata": {
        "id": "aTp83dZhCJpI",
        "colab_type": "text"
      },
      "source": [
        "I always refer people to the python documention online, but the help function can give you helpful text about a function. It can tell us roughly how the randint function works for example."
      ]
    },
    {
      "cell_type": "code",
      "metadata": {
        "id": "f2Rm5vihzbyn",
        "colab_type": "code",
        "outputId": "d5c2f76c-03ad-43eb-d340-4044259c8648",
        "colab": {
          "base_uri": "https://localhost:8080/",
          "height": 206
        }
      },
      "source": [
        "print(help(random.randint), help(testlist.append))"
      ],
      "execution_count": 29,
      "outputs": [
        {
          "output_type": "stream",
          "text": [
            "Help on method randint in module random:\n",
            "\n",
            "randint(a, b) method of random.Random instance\n",
            "    Return random integer in range [a, b], including both end points.\n",
            "\n",
            "Help on built-in function append:\n",
            "\n",
            "append(...) method of builtins.list instance\n",
            "    L.append(object) -> None -- append object to end\n",
            "\n",
            "None None\n"
          ],
          "name": "stdout"
        }
      ]
    },
    {
      "cell_type": "markdown",
      "metadata": {
        "id": "imhobCNjB7kL",
        "colab_type": "text"
      },
      "source": [
        "#bonus tip-there are probably more proper ways to calculate the standard deviation instead of using a bunch of parentheses like I did, but beware\n",
        "#of order of operations in any programming language or system. The true answer below should be 9 (like it would be in your calculator) but python returns negative 9. You would want to put -3 in parentheses."
      ]
    },
    {
      "cell_type": "code",
      "metadata": {
        "id": "JRLSAHIc_9EX",
        "colab_type": "code",
        "colab": {
          "base_uri": "https://localhost:8080/",
          "height": 34
        },
        "outputId": "ad03328d-c2bb-44ed-ccc5-c98040134315"
      },
      "source": [
        "\n",
        "-3**2"
      ],
      "execution_count": 24,
      "outputs": [
        {
          "output_type": "execute_result",
          "data": {
            "text/plain": [
              "-9"
            ]
          },
          "metadata": {
            "tags": []
          },
          "execution_count": 24
        }
      ]
    }
  ]
}