{
  "cells": [
    {
      "cell_type": "markdown",
      "metadata": {
        "colab_type": "text",
        "id": "3srMElW0Chg3"
      },
      "source": [
        "# Working with Numbers and Statistics in Python\n",
        "\n",
        "In Python, there are many data types — but when dealing with numbers, it's important to be comfortable with:\n",
        "- **Integers**\n",
        "- **Floats**\n",
        "- **Complex numbers**\n",
        "\n",
        "In introductory statistics, we often cover **discrete probability** using simple events like coin flips. I won’t go deep into statistical theory here, but instead focus on how Python can be used to **solve numerical problems** effectively."
      ]
    },
    {
      "cell_type": "markdown",
      "metadata": {},
      "source": [
        "## Simulating Dice Rolls with Pandas\n",
        "\n",
        "In the next cell, we’ll create a **Pandas DataFrame** to simulate 100 flips of a 20-sided die (`d20`). Pandas provides many helpful **aggregate functions** that make numeric analysis easy.\n",
        "\n",
        "We’ll compare:\n",
        "- The **sample mean** of the `landed_value` field vs. the **expected value** of a 20-sided die\n",
        "- The **sample standard deviation** vs. the **theoretical standard deviation** of the die\n",
        "\n",
        "> ⚠️ Note: These are *not* the same — one is empirical, one is theoretical.\n",
        "\n",
        "If I can conceive it, I like to think I can **model it with math or Python** — whether it's a die with any number of sides, or some high-dimensional physics concept."
      ]
    },
    {
      "cell_type": "code",
      "execution_count": 25,
      "metadata": {
        "colab": {
          "base_uri": "https://localhost:8080/",
          "height": 51
        },
        "colab_type": "code",
        "id": "G1Sf4beTTRkF",
        "outputId": "eb7520ae-e5f9-4575-ca54-6387cf0e5986"
      },
      "outputs": [
        {
          "name": "stdout",
          "output_type": "stream",
          "text": [
            "average: the average of the field is 11.85 and the standard deviation of the field is 5.59  \n",
            " the expected value: 10.5  and its standard deviation: 5.77\n"
          ]
        }
      ],
      "source": [
        "import random\n",
        "import pandas as pd\n",
        "testlist=[]\n",
        "for x in range(0,100):\n",
        "  \n",
        "  testlist.append(random.randint(1,20))\n",
        "d={\"landed_value\":testlist}\n",
        "die_flip=pd.DataFrame(data=d)\n",
        "ex=[x*(1/20) for x in range(1,21)] #list comprehensions are very important for data science. Please cover how to generate new lists from sequences!\n",
        "\n",
        "xsquare_p=[x**2*(1/20) for x in range(1,21) ]\n",
        "print(\"average:\", f'the average of the field is {die_flip.landed_value.mean()}', f'and the standard deviation of the field is {round(die_flip.landed_value.std(),2)}',' \\n the expected value:', sum(ex), \" and its standard deviation:\", round(pow((sum(xsquare_p)-(sum(ex))**2),.5), 2))"
      ]
    },
    {
      "cell_type": "code",
      "execution_count": 30,
      "metadata": {
        "colab": {
          "base_uri": "https://localhost:8080/",
          "height": 417
        },
        "colab_type": "code",
        "id": "4hzHvj1jiF3f",
        "outputId": "08e1d7a5-3696-47e1-f976-95ed07416be7"
      },
      "outputs": [
        {
          "data": {
            "text/html": [
              "<div>\n",
              "<style scoped>\n",
              "    .dataframe tbody tr th:only-of-type {\n",
              "        vertical-align: middle;\n",
              "    }\n",
              "\n",
              "    .dataframe tbody tr th {\n",
              "        vertical-align: top;\n",
              "    }\n",
              "\n",
              "    .dataframe thead th {\n",
              "        text-align: right;\n",
              "    }\n",
              "</style>\n",
              "<table border=\"1\" class=\"dataframe\">\n",
              "  <thead>\n",
              "    <tr style=\"text-align: right;\">\n",
              "      <th></th>\n",
              "      <th>landed_value</th>\n",
              "    </tr>\n",
              "  </thead>\n",
              "  <tbody>\n",
              "    <tr>\n",
              "      <th>0</th>\n",
              "      <td>20</td>\n",
              "    </tr>\n",
              "    <tr>\n",
              "      <th>1</th>\n",
              "      <td>20</td>\n",
              "    </tr>\n",
              "    <tr>\n",
              "      <th>2</th>\n",
              "      <td>14</td>\n",
              "    </tr>\n",
              "    <tr>\n",
              "      <th>3</th>\n",
              "      <td>4</td>\n",
              "    </tr>\n",
              "    <tr>\n",
              "      <th>4</th>\n",
              "      <td>1</td>\n",
              "    </tr>\n",
              "    <tr>\n",
              "      <th>...</th>\n",
              "      <td>...</td>\n",
              "    </tr>\n",
              "    <tr>\n",
              "      <th>95</th>\n",
              "      <td>8</td>\n",
              "    </tr>\n",
              "    <tr>\n",
              "      <th>96</th>\n",
              "      <td>7</td>\n",
              "    </tr>\n",
              "    <tr>\n",
              "      <th>97</th>\n",
              "      <td>17</td>\n",
              "    </tr>\n",
              "    <tr>\n",
              "      <th>98</th>\n",
              "      <td>19</td>\n",
              "    </tr>\n",
              "    <tr>\n",
              "      <th>99</th>\n",
              "      <td>4</td>\n",
              "    </tr>\n",
              "  </tbody>\n",
              "</table>\n",
              "<p>100 rows × 1 columns</p>\n",
              "</div>"
            ],
            "text/plain": [
              "    landed_value\n",
              "0             20\n",
              "1             20\n",
              "2             14\n",
              "3              4\n",
              "4              1\n",
              "..           ...\n",
              "95             8\n",
              "96             7\n",
              "97            17\n",
              "98            19\n",
              "99             4\n",
              "\n",
              "[100 rows x 1 columns]"
            ]
          },
          "execution_count": 30,
          "metadata": {
            "tags": []
          },
          "output_type": "execute_result"
        }
      ],
      "source": [
        "die_flip\n",
        "\n"
      ]
    },
    {
      "cell_type": "markdown",
      "metadata": {
        "colab_type": "text",
        "id": "aTp83dZhCJpI"
      },
      "source": [
        "## Using Python’s `help()` Function\n",
        "\n",
        "I always recommend referring to the [official Python documentation](https://docs.python.org/3/), but the built-in `help()` function can be a quick way to understand how a function works.\n",
        "\n",
        "For example, `help(random.randint)` gives us insight into the parameters and behavior of the `randint` function.\n"
      ]
    },
    {
      "cell_type": "code",
      "execution_count": 29,
      "metadata": {
        "colab": {
          "base_uri": "https://localhost:8080/",
          "height": 206
        },
        "colab_type": "code",
        "id": "f2Rm5vihzbyn",
        "outputId": "d5c2f76c-03ad-43eb-d340-4044259c8648"
      },
      "outputs": [
        {
          "name": "stdout",
          "output_type": "stream",
          "text": [
            "Help on method randint in module random:\n",
            "\n",
            "randint(a, b) method of random.Random instance\n",
            "    Return random integer in range [a, b], including both end points.\n",
            "\n",
            "Help on built-in function append:\n",
            "\n",
            "append(...) method of builtins.list instance\n",
            "    L.append(object) -> None -- append object to end\n",
            "\n",
            "None None\n"
          ]
        }
      ],
      "source": [
        "print(help(random.randint), help(testlist.append))"
      ]
    },
    {
      "cell_type": "markdown",
      "metadata": {
        "colab_type": "text",
        "id": "imhobCNjB7kL"
      },
      "source": [
        "## Bonus Tip – Watch Your Parentheses!\n",
        "\n",
        "There are likely more “proper” ways to calculate **standard deviation** than chaining too many parentheses. But regardless of how you write it:\n",
        "\n",
        "> **Always be mindful of order of operations** in any programming language!\n",
        "\n",
        "For example, the expression `-3 ** 2` returns `-9` in Python — not `9` — because exponentiation happens before negation. To get the correct value, wrap `-3` in parentheses like this: `(-3) ** 2`"
      ]
    },
    {
      "cell_type": "code",
      "execution_count": 24,
      "metadata": {
        "colab": {
          "base_uri": "https://localhost:8080/",
          "height": 34
        },
        "colab_type": "code",
        "id": "JRLSAHIc_9EX",
        "outputId": "ad03328d-c2bb-44ed-ccc5-c98040134315"
      },
      "outputs": [
        {
          "data": {
            "text/plain": [
              "-9"
            ]
          },
          "execution_count": 24,
          "metadata": {
            "tags": []
          },
          "output_type": "execute_result"
        }
      ],
      "source": [
        "\n",
        "-3**2"
      ]
    }
  ],
  "metadata": {
    "colab": {
      "name": "20sidedfairdie",
      "provenance": []
    },
    "kernelspec": {
      "display_name": "Python 3",
      "name": "python3"
    }
  },
  "nbformat": 4,
  "nbformat_minor": 0
}
