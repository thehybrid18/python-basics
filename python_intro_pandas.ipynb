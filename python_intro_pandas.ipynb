{
 "cells": [
  {
   "cell_type": "markdown",
   "metadata": {
    "colab_type": "text",
    "id": "SaJXwNo9OScG"
   },
   "source": [
    "## Numpy\n",
    "\n",
    "Numpy comes installed by default on Google Colaboratory. That means that you don't need to use pip to install Numpy for your work. You should know, however, that when working with Python in a \"from scratch\" environment, you would need to install Numpy.\n",
    "\n",
    "Numpy was designed to make manipulating data easy. The fundamental structure that it uses is the *array*.  A Numpy array is a table of elements, all of the same type. Arrays may be one-dimensional, two-, or even higher-dimensional. \n",
    "\n",
    "![Numpy Arrays](assets/python4_intro_01.png)\n",
    "\n",
    "Each dimension is called an *axis*. In a one-dimensional array, there is only a single axis; in a two- dimensional array, there are two *axes*; and in a three-dimensional array there are three axes, etc. The axes of the array are indexed by integers. We refer to individual values in the array by the index of the axis.\n",
    "\n",
    "To work with Numpy first import the library."
   ]
  },
  {
   "cell_type": "code",
   "execution_count": 0,
   "metadata": {
    "colab": {},
    "colab_type": "code",
    "id": "R-CNZQgdOA_X"
   },
   "outputs": [],
   "source": [
    "import numpy as np"
   ]
  },
  {
   "cell_type": "markdown",
   "metadata": {
    "colab_type": "text",
    "id": "0se4gEpLm5gj"
   },
   "source": [
    "## Array Creation\n",
    "\n",
    "There are a few ways to create an array in Numpy. First, an array can be created from a list of values."
   ]
  },
  {
   "cell_type": "code",
   "execution_count": 0,
   "metadata": {
    "colab": {
     "base_uri": "https://localhost:8080/",
     "height": 34
    },
    "colab_type": "code",
    "id": "8fkkwQTGnXL6",
    "outputId": "ead74ba3-012b-44d5-e717-9231882d1ad9"
   },
   "outputs": [
    {
     "name": "stdout",
     "output_type": "stream",
     "text": [
      "[5 3 7]\n"
     ]
    }
   ],
   "source": [
    "# a one dimensional array\n",
    "a = np.array([5, 3, 7])\n",
    "print(a)"
   ]
  },
  {
   "cell_type": "markdown",
   "metadata": {
    "colab_type": "text",
    "id": "qbRXHVhooWyu"
   },
   "source": [
    "Similarly, a two-dimensional array may be created by passing a list of lists."
   ]
  },
  {
   "cell_type": "code",
   "execution_count": 0,
   "metadata": {
    "colab": {
     "base_uri": "https://localhost:8080/",
     "height": 51
    },
    "colab_type": "code",
    "id": "sRPL3lkHoeEu",
    "outputId": "89f16a10-c2cc-4baa-e665-b4670541653b"
   },
   "outputs": [
    {
     "name": "stdout",
     "output_type": "stream",
     "text": [
      "[[2 4 6]\n",
      " [3 5 7]]\n"
     ]
    }
   ],
   "source": [
    "# a two dimensional array\n",
    "b = np.array([[2, 4, 6], [3, 5, 7]])\n",
    "print(b)"
   ]
  },
  {
   "cell_type": "markdown",
   "metadata": {
    "colab_type": "text",
    "id": "oGwCxG7vsC4C"
   },
   "source": [
    "Sometimes, you may want to create an array out of a sequence of numbers. For instance, to create an array of all numbers from 0 to 19:"
   ]
  },
  {
   "cell_type": "code",
   "execution_count": 0,
   "metadata": {
    "colab": {
     "base_uri": "https://localhost:8080/",
     "height": 34
    },
    "colab_type": "code",
    "id": "Gia1pkU1sQ1j",
    "outputId": "fb115c24-fbc5-4410-865f-fe40e49b490d"
   },
   "outputs": [
    {
     "name": "stdout",
     "output_type": "stream",
     "text": [
      "[ 0  1  2  3  4  5  6  7  8  9 10 11 12 13 14 15 16 17 18 19]\n"
     ]
    }
   ],
   "source": [
    "c = np.arange(20)\n",
    "print(c)"
   ]
  },
  {
   "cell_type": "markdown",
   "metadata": {
    "colab_type": "text",
    "id": "Tt9SIHNIsfhG"
   },
   "source": [
    "The `arange()` method can optionally take, `start`, `end`, and `step` parameters. To create an array of all even numbers from 20 to 50, for instance, we can specify a `start` of 20, `end` of 50 and `step` of 2. Note that the `end` parameter is not inclusive."
   ]
  },
  {
   "cell_type": "code",
   "execution_count": 0,
   "metadata": {
    "colab": {
     "base_uri": "https://localhost:8080/",
     "height": 34
    },
    "colab_type": "code",
    "id": "ksHJhT1ks71M",
    "outputId": "6168ee33-aeba-4b80-efe1-5eae87eb0b24"
   },
   "outputs": [
    {
     "name": "stdout",
     "output_type": "stream",
     "text": [
      "[20 22 24 26 28 30 32 34 36 38 40 42 44 46 48]\n"
     ]
    }
   ],
   "source": [
    "d = np.arange(20, 50, 2)\n",
    "print(d)"
   ]
  },
  {
   "cell_type": "markdown",
   "metadata": {
    "colab_type": "text",
    "id": "wcg7t4PwtNNL"
   },
   "source": [
    "In general, it's a more computationally expensive operation to resize an array than it is to create one from scratch. Because of this, sometimes it makes sense to create an array of a given size with placeholder values that you later fill in with meaningful ones. The `zero()` method provides an easy way to create an array of zeros."
   ]
  },
  {
   "cell_type": "code",
   "execution_count": 0,
   "metadata": {
    "colab": {
     "base_uri": "https://localhost:8080/",
     "height": 34
    },
    "colab_type": "code",
    "id": "S_oAbn5ptjLU",
    "outputId": "15b480a4-45a8-489b-def6-31586db24dca"
   },
   "outputs": [
    {
     "name": "stdout",
     "output_type": "stream",
     "text": [
      "[0. 0. 0. 0. 0. 0. 0. 0. 0. 0.]\n"
     ]
    }
   ],
   "source": [
    "# create an array of zeros\n",
    "e = np.zeros(10)\n",
    "print(e)"
   ]
  },
  {
   "cell_type": "code",
   "execution_count": 0,
   "metadata": {
    "colab": {
     "base_uri": "https://localhost:8080/",
     "height": 102
    },
    "colab_type": "code",
    "id": "PiPA-x3VtxGA",
    "outputId": "2f051250-aa00-42ce-c0fe-096e287e24da"
   },
   "outputs": [
    {
     "name": "stdout",
     "output_type": "stream",
     "text": [
      "[[1. 1. 1. 1. 1. 1. 1. 1.]\n",
      " [1. 1. 1. 1. 1. 1. 1. 1.]\n",
      " [1. 1. 1. 1. 1. 1. 1. 1.]\n",
      " [1. 1. 1. 1. 1. 1. 1. 1.]\n",
      " [1. 1. 1. 1. 1. 1. 1. 1.]]\n"
     ]
    }
   ],
   "source": [
    "# create a two-dimensional array of ones\n",
    "f = np.ones((5, 8))\n",
    "print(f)"
   ]
  },
  {
   "cell_type": "markdown",
   "metadata": {
    "colab_type": "text",
    "id": "A-npZFv8uMQn"
   },
   "source": [
    "## Reshape\n",
    "\n",
    "You can change the dimensions of an array with the `reshape()` method. For instance, here's what we could do if we had a one-dimensional array of 20 numbers and needed to convert this to a 4x5 array of the same numbers:"
   ]
  },
  {
   "cell_type": "code",
   "execution_count": 0,
   "metadata": {
    "colab": {
     "base_uri": "https://localhost:8080/",
     "height": 102
    },
    "colab_type": "code",
    "id": "iBmQOTOWuhMO",
    "outputId": "dcf5b441-90aa-4b27-e103-aace7136640c"
   },
   "outputs": [
    {
     "name": "stdout",
     "output_type": "stream",
     "text": [
      "[ 0  1  2  3  4  5  6  7  8  9 10 11 12 13 14 15 16 17 18 19]\n",
      "[[ 0  1  2  3  4]\n",
      " [ 5  6  7  8  9]\n",
      " [10 11 12 13 14]\n",
      " [15 16 17 18 19]]\n"
     ]
    }
   ],
   "source": [
    "g = np.arange(20)\n",
    "print(g)\n",
    "\n",
    "g = g.reshape(4, 5)\n",
    "print(g)"
   ]
  },
  {
   "cell_type": "markdown",
   "metadata": {
    "colab_type": "text",
    "id": "JtDh7VT5u2i8"
   },
   "source": [
    "## Basic Attributes\n",
    "\n",
    "The array object has several useful attributes. For example:\n",
    "\n",
    "\n",
    "*   `ndim` - the number of axes\n",
    "*   `shape` - the dimensions of the array\n",
    "* `size` - the number of elements in the array\n",
    "* `dtype` - the data type of the elements of the array\n",
    "\n",
    "\n"
   ]
  },
  {
   "cell_type": "code",
   "execution_count": 0,
   "metadata": {
    "colab": {
     "base_uri": "https://localhost:8080/",
     "height": 85
    },
    "colab_type": "code",
    "id": "0gv4A01wvZ85",
    "outputId": "5b4a3f01-2a75-44c4-f4c7-0f02de56a8dc"
   },
   "outputs": [
    {
     "name": "stdout",
     "output_type": "stream",
     "text": [
      "There are 2 axes in this array.\n",
      "This is a (5, 5) array\n",
      "This array contains 25 elements\n",
      "This array contains values of type int64\n"
     ]
    }
   ],
   "source": [
    "# create a new array\n",
    "h = np.arange(25).reshape(5, 5)\n",
    "\n",
    "# print the number of axes in this array\n",
    "print('There are {} axes in this array.'.format(h.ndim))\n",
    "\n",
    "# print the shape of the array\n",
    "print('This is a {} array'.format(h.shape))\n",
    "\n",
    "# print the size of the array\n",
    "print('This array contains {} elements'.format(h.size))\n",
    "\n",
    "# print the data type of the elements\n",
    "print('This array contains values of type {}'.format(h.dtype))"
   ]
  },
  {
   "cell_type": "markdown",
   "metadata": {
    "colab_type": "text",
    "id": "fH4FVXfbwnw6"
   },
   "source": [
    "## Basic Operators\n",
    "\n",
    "A class of 30 students completed a coursework assessment worth 40% and a final exam worth 60% of the final grade. The grades for the coursework and the marks for the exam are in two arrays. Find the total for each student by adding corresponding grades from the two arrays.\n",
    "\n",
    "To solve such a problem we need to iterate over the arrays and add corresponding values to create a thrid array. Numpy has built in operators that perform *elementwise* operations, and that's what we need here. Numpy's arithmetic operators are all elementwise."
   ]
  },
  {
   "cell_type": "code",
   "execution_count": 0,
   "metadata": {
    "colab": {
     "base_uri": "https://localhost:8080/",
     "height": 170
    },
    "colab_type": "code",
    "id": "AS31LQVjlbv7",
    "outputId": "02ccaa2d-6580-4005-fa3d-8e22052d5154"
   },
   "outputs": [
    {
     "name": "stdout",
     "output_type": "stream",
     "text": [
      "The coursework marks are:\n",
      "[ 1 32 31 11 11 15  0  2 26 40 22  2  6  6 33 30 39 38 32 10 19  1 31 28\n",
      "  9 10 17 32 24 24]\n",
      "The final exam marks are:\n",
      "[21 34 52 20 18 24 18 24 36 34 19 38 42 17 40 50 34  5 23 29  7 31 31  6\n",
      " 28 30 35 49  4 48]\n",
      "The total marks are:\n",
      "[22 66 83 31 29 39 18 26 62 74 41 40 48 23 73 80 73 43 55 39 26 32 62 34\n",
      " 37 40 52 81 28 72]\n"
     ]
    }
   ],
   "source": [
    "# use numpy's random methods to create an array of random values\n",
    "cw_marks = np.random.randint(0, 41, 30)\n",
    "exam_marks = np.random.randint(0, 61, 30)\n",
    "\n",
    "print('The coursework marks are:')\n",
    "print(cw_marks)\n",
    "print('The final exam marks are:')\n",
    "print(exam_marks)\n",
    "\n",
    "total = cw_marks + exam_marks\n",
    "\n",
    "print('The total marks are:')\n",
    "print(total)"
   ]
  },
  {
   "cell_type": "markdown",
   "metadata": {
    "colab_type": "text",
    "id": "80Ii7lqgsH7o"
   },
   "source": [
    "Some operators on arrays are called *aggregator* functions because they aggregate the elements of the array and return a single value. For example, we can use built-in Numpy functions to find the mean, min, and max of the total grades."
   ]
  },
  {
   "cell_type": "code",
   "execution_count": 0,
   "metadata": {
    "colab": {
     "base_uri": "https://localhost:8080/",
     "height": 85
    },
    "colab_type": "code",
    "id": "dS8sp2hjszBR",
    "outputId": "857cb096-1b9c-4830-84de-498caa46defc"
   },
   "outputs": [
    {
     "name": "stdout",
     "output_type": "stream",
     "text": [
      "The highest mark in the couse was 83\n",
      "The lowest mark in the course was 18\n",
      "The mean mark in the course was 47.63333333333333\n",
      "The standard deviation of the marks in the course was 19.8099021255084\n"
     ]
    }
   ],
   "source": [
    "print('The highest mark in the couse was {}'. format(np.max(total)))\n",
    "print('The lowest mark in the course was {}'.format(np.min(total)))\n",
    "print('The mean mark in the course was {}'.format(np.mean(total)))\n",
    "print('The standard deviation of the marks in the course was {}'.format(np.std(total)))"
   ]
  },
  {
   "cell_type": "markdown",
   "metadata": {
    "colab_type": "text",
    "id": "dTdST4l50dVm"
   },
   "source": [
    "## Pandas\n",
    "\n",
    "Pandas is an open source Python library that provides easy-to-use high performance data structures and data analysis tools. There are two main data structures provided by Pandas:\n",
    "\n",
    "1. DataFrames\n",
    "2. Series\n",
    "\n",
    "We will spend most of our time working with DataFrames but the two structures are closely related so we'll take a brief look at Series as well.\n",
    "\n",
    "### Series\n",
    "\n",
    "A Pandas Series can be thought of a single column in a spreadsheet. It is a one-dimensional array of values."
   ]
  },
  {
   "cell_type": "code",
   "execution_count": 0,
   "metadata": {
    "colab": {
     "base_uri": "https://localhost:8080/",
     "height": 187
    },
    "colab_type": "code",
    "id": "S5FtmIWrj0c5",
    "outputId": "ec62fef3-0569-455a-d1ed-ba8bd86abd9e"
   },
   "outputs": [
    {
     "name": "stdout",
     "output_type": "stream",
     "text": [
      "0    20\n",
      "1    34\n",
      "2    28\n",
      "3    26\n",
      "4    39\n",
      "5    35\n",
      "6    34\n",
      "7    36\n",
      "8    38\n",
      "dtype: int64\n"
     ]
    }
   ],
   "source": [
    "# first import Pandas\n",
    "import pandas as pd\n",
    "import numpy as np\n",
    "\n",
    "# Create a Series from an array\n",
    "ages = pd.Series(np.array([20, 34, 28, 26, 39, 35, 34, 36, 38]))\n",
    "\n",
    "# print this Series\n",
    "print(ages)"
   ]
  },
  {
   "cell_type": "markdown",
   "metadata": {
    "colab_type": "text",
    "id": "Rmm73Wg-kYHU"
   },
   "source": [
    "The numbers on the left are row index numbers that have been automatically generated. Again, imagine a spreadsheet with just a single column, even that spreadsheet will have row numbers on the left.\n",
    "\n",
    "It's also possible to set our own string-based index."
   ]
  },
  {
   "cell_type": "code",
   "execution_count": 0,
   "metadata": {
    "colab": {
     "base_uri": "https://localhost:8080/",
     "height": 187
    },
    "colab_type": "code",
    "id": "OflQh8uilImo",
    "outputId": "daf302ed-6948-432c-a920-677e24fba250"
   },
   "outputs": [
    {
     "name": "stdout",
     "output_type": "stream",
     "text": [
      "Sam          50\n",
      "Frodo        51\n",
      "Merry        39\n",
      "Pippin       38\n",
      "Aragorn     124\n",
      "Gandalf    2013\n",
      "Boromir      45\n",
      "Legolas    1768\n",
      "Gimli        98\n",
      "dtype: int64\n"
     ]
    }
   ],
   "source": [
    "age_array = np.array([50, 51, 39, 38, 124, 2013, 45, 1768, 98])\n",
    "names_list = ['Sam', 'Frodo', 'Merry', 'Pippin', 'Aragorn', 'Gandalf', 'Boromir', 'Legolas', 'Gimli']\n",
    "\n",
    "fellowship = pd.Series(age_array, index=names_list)\n",
    "\n",
    "print(fellowship)"
   ]
  },
  {
   "cell_type": "markdown",
   "metadata": {
    "colab_type": "text",
    "id": "qdmoKEUwmNuE"
   },
   "source": [
    "Alternatively, we could use a Python dictionary to create a Series."
   ]
  },
  {
   "cell_type": "code",
   "execution_count": 0,
   "metadata": {
    "colab": {
     "base_uri": "https://localhost:8080/",
     "height": 119
    },
    "colab_type": "code",
    "id": "QvoziIOQmXKd",
    "outputId": "2042d43c-bca3-4a71-c448-bf9be9bbb346"
   },
   "outputs": [
    {
     "name": "stdout",
     "output_type": "stream",
     "text": [
      "Arsenal       56\n",
      "Liverpool     69\n",
      "Man City      68\n",
      "Man United    55\n",
      "Tottenham     60\n",
      "dtype: int64\n"
     ]
    }
   ],
   "source": [
    "# Here is a dictionary of teams and points\n",
    "teams = {\n",
    "    'Liverpool': 69,\n",
    "    'Man City': 68,\n",
    "    'Tottenham': 60,\n",
    "    'Arsenal': 56,\n",
    "    'Man United': 55\n",
    "}\n",
    "\n",
    "# construct a Series from the dictionary\n",
    "standings = pd.Series(teams)\n",
    "\n",
    "# Print the Series\n",
    "print(standings)"
   ]
  },
  {
   "cell_type": "markdown",
   "metadata": {
    "colab_type": "text",
    "id": "N15zCG9htkmQ"
   },
   "source": [
    "### Basic operations\n",
    "\n",
    "Pandas has a few basic operations built into the Series. The full list of attributes and methods can be found in the [documentation](https://pandas.pydata.org/pandas-docs/stable/reference/api/pandas.Series.html). Here are a few examples."
   ]
  },
  {
   "cell_type": "code",
   "execution_count": 0,
   "metadata": {
    "colab": {
     "base_uri": "https://localhost:8080/",
     "height": 85
    },
    "colab_type": "code",
    "id": "Bl2j9hwDuhAG",
    "outputId": "ecf70a24-3533-4146-f6cb-d77cb245ab94"
   },
   "outputs": [
    {
     "name": "stdout",
     "output_type": "stream",
     "text": [
      "The oldest age is 2013\n",
      "The youngest age is 38\n",
      "The mean points in the league is 61.6\n",
      "The standard deviation of points in the league is 6.58027355054484\n"
     ]
    }
   ],
   "source": [
    "print('The oldest age is {}'.format(fellowship.max()))\n",
    "print('The youngest age is {}'.format(fellowship.min()))\n",
    "print('The mean points in the league is {}'.format(standings.mean()))\n",
    "print('The standard deviation of points in the league is {}'.format(standings.std()))"
   ]
  },
  {
   "cell_type": "markdown",
   "metadata": {
    "colab_type": "text",
    "id": "XQPF0XxGvJmQ"
   },
   "source": [
    "The `describe()` method provides all these values with a single method call, and it can be quite helpful in analyzing central tendency."
   ]
  },
  {
   "cell_type": "code",
   "execution_count": 0,
   "metadata": {
    "colab": {
     "base_uri": "https://localhost:8080/",
     "height": 170
    },
    "colab_type": "code",
    "id": "5JQRxfTGvVVX",
    "outputId": "a2eaf0f8-1148-48ce-f64f-74aca80e6dea"
   },
   "outputs": [
    {
     "data": {
      "text/plain": [
       "count     5.000000\n",
       "mean     61.600000\n",
       "std       6.580274\n",
       "min      55.000000\n",
       "25%      56.000000\n",
       "50%      60.000000\n",
       "75%      68.000000\n",
       "max      69.000000\n",
       "dtype: float64"
      ]
     },
     "execution_count": 34,
     "metadata": {
      "tags": []
     },
     "output_type": "execute_result"
    }
   ],
   "source": [
    "standings.describe()"
   ]
  },
  {
   "cell_type": "markdown",
   "metadata": {
    "colab_type": "text",
    "id": "-A5dsIHbvgPO"
   },
   "source": [
    "## DataFrames\n",
    "\n",
    "If a Series is a single column in a spreadsheet, then the DataFrame is an entire spreadsheet. It is a two- dimensional structure, with labeled axes.\n",
    "\n",
    "![DataFrame](assets/python4_intro_02.png)\n",
    "\n",
    "\n",
    "There are a number of ways to create a DataFrame, but most commonly, the data is read from some source, say a file or a database and the DataFrame is constructed from that data. We're going to explore the four most common ways to create DataFrames:\n",
    "\n",
    "   * from csv using `read_csv()`\n",
    "   * from in memory lists\n",
    "   * from JSON data using `read_json()`\n",
    "   * from a database using `read_sql_query()` or `read_sql_table()`\n",
    "   \n",
    "  \n",
    "  ## From CSV"
   ]
  },
  {
   "cell_type": "code",
   "execution_count": 0,
   "metadata": {
    "colab": {},
    "colab_type": "code",
    "id": "Nw6_t5Gn0B4x"
   },
   "outputs": [],
   "source": [
    "import pandas as pd\n",
    "df = pd.read_csv('https://tf-assets-prod.s3.amazonaws.com/tf-curric/data-analytics-bootcamp/songs.csv')"
   ]
  },
  {
   "cell_type": "markdown",
   "metadata": {
    "colab_type": "text",
    "id": "QUmAO9Mn-xn7"
   },
   "source": [
    "The variable named `df` contain the DataFrame. Notice that we did not give any further information about the data. Pandas will attempt to infer the columns and datatypes from the data in the file. We do have some options for specifying what we expect though, but first lets explore the data that was found. There are a number of methods and attributes of the DataFrame that we can use to examine the DataFrame itself.\n",
    "\n",
    "First, let's see the list of columns with corresponding number of values and data types."
   ]
  },
  {
   "cell_type": "code",
   "execution_count": 0,
   "metadata": {
    "colab": {
     "base_uri": "https://localhost:8080/",
     "height": 238
    },
    "colab_type": "code",
    "id": "wTYvaza67XWY",
    "outputId": "3556ca11-7682-435f-83ff-5505cb19d246"
   },
   "outputs": [
    {
     "name": "stdout",
     "output_type": "stream",
     "text": [
      "<class 'pandas.core.frame.DataFrame'>\n",
      "RangeIndex: 2229 entries, 0 to 2228\n",
      "Data columns (total 8 columns):\n",
      "Song Clean      2229 non-null object\n",
      "ARTIST CLEAN    2229 non-null object\n",
      "Release Year    1652 non-null object\n",
      "COMBINED        2229 non-null object\n",
      "First?          2229 non-null int64\n",
      "Year?           2229 non-null int64\n",
      "PlayCount       2229 non-null int64\n",
      "F*G             2229 non-null int64\n",
      "dtypes: int64(4), object(4)\n",
      "memory usage: 139.4+ KB\n"
     ]
    }
   ],
   "source": [
    "df.info()"
   ]
  },
  {
   "cell_type": "markdown",
   "metadata": {
    "colab_type": "text",
    "id": "612tDKfkCStF"
   },
   "source": [
    "There is a lot of information in this output. The first line simply tells us that the object is a DataFrame. The second line:\n",
    "\n",
    "```\n",
    "RangeIndex: 2229 entries, 0 to 2228\n",
    "```\n",
    "\n",
    "states that an index that ranges from 0 to 2228 was created for the rows. That means that this DataFrame contains 2229 rows numbered from 0 to 2228.\n",
    "\n",
    "Next, the column information is given. There are eight columns in total. For each column, the name of the column, the total number of non-null values and the data type of the column is given. For instance, the column named \"Song Clean\" has 2229 entries and is of type \"object\", which means its a string in this case. \n",
    "\n",
    "The \"Release Year\" column only has 1652 entries implying that some of the rows in that column contain null values. This is important to note if our analysis uses that field later.\n",
    "\n",
    "We can list the column names."
   ]
  },
  {
   "cell_type": "code",
   "execution_count": 0,
   "metadata": {
    "colab": {
     "base_uri": "https://localhost:8080/",
     "height": 68
    },
    "colab_type": "code",
    "id": "cu3PCfzONmvB",
    "outputId": "af661c01-7d54-4a8a-a06f-638567f58f75"
   },
   "outputs": [
    {
     "data": {
      "text/plain": [
       "Index(['Song Clean', 'ARTIST CLEAN', 'Release Year', 'COMBINED', 'First?',\n",
       "       'Year?', 'PlayCount', 'F*G'],\n",
       "      dtype='object')"
      ]
     },
     "execution_count": 13,
     "metadata": {
      "tags": []
     },
     "output_type": "execute_result"
    }
   ],
   "source": [
    "df.columns"
   ]
  },
  {
   "cell_type": "markdown",
   "metadata": {
    "colab_type": "text",
    "id": "bm0VV88_OLOJ"
   },
   "source": [
    "Or the data types."
   ]
  },
  {
   "cell_type": "code",
   "execution_count": 0,
   "metadata": {
    "colab": {
     "base_uri": "https://localhost:8080/",
     "height": 170
    },
    "colab_type": "code",
    "id": "tpmZk2RpON74",
    "outputId": "2ad8ae75-8323-43c2-f47b-08466790a47d"
   },
   "outputs": [
    {
     "data": {
      "text/plain": [
       "Song Clean      object\n",
       "ARTIST CLEAN    object\n",
       "Release Year    object\n",
       "COMBINED        object\n",
       "First?           int64\n",
       "Year?            int64\n",
       "PlayCount        int64\n",
       "F*G              int64\n",
       "dtype: object"
      ]
     },
     "execution_count": 14,
     "metadata": {
      "tags": []
     },
     "output_type": "execute_result"
    }
   ],
   "source": [
    "df.dtypes"
   ]
  },
  {
   "cell_type": "markdown",
   "metadata": {
    "colab_type": "text",
    "id": "bipy3xytOUj8"
   },
   "source": [
    "The shape of the DataFrame is the row x column dimensions. We know that we have 2229 rows and 8 columns."
   ]
  },
  {
   "cell_type": "code",
   "execution_count": 0,
   "metadata": {
    "colab": {
     "base_uri": "https://localhost:8080/",
     "height": 34
    },
    "colab_type": "code",
    "id": "AU4NYp4NOddf",
    "outputId": "f714c7b7-fc62-4c08-eac4-8263d6737a50"
   },
   "outputs": [
    {
     "data": {
      "text/plain": [
       "(2229, 8)"
      ]
     },
     "execution_count": 15,
     "metadata": {
      "tags": []
     },
     "output_type": "execute_result"
    }
   ],
   "source": [
    "df.shape"
   ]
  },
  {
   "cell_type": "markdown",
   "metadata": {
    "colab_type": "text",
    "id": "FFNefEoXPqkR"
   },
   "source": [
    "## View The Data\n",
    "Later we will look at various ways to select the data in a DataFrame but we will look at a simple way to take a peek at the data just to verify that we have a correct DataFrame. To view the data we can try printing the entire DataFrame. While that would work well for a small DataFrame, most of the DataFrames we will encounter in practice would probably be too large to make printing practical. For instance, printing the 2229 rows in this DataFrame would be impractical. We could just select a subset of the rows and print just those. The `head()` method prints the first 5 rows of the dataset and `tail()` prints the last 5 rows."
   ]
  },
  {
   "cell_type": "code",
   "execution_count": 0,
   "metadata": {
    "colab": {
     "base_uri": "https://localhost:8080/",
     "height": 204
    },
    "colab_type": "code",
    "id": "MwTRw-0ZQgdg",
    "outputId": "6db7ea6d-5a74-4aa2-981d-6c85d1c94bfe"
   },
   "outputs": [
    {
     "data": {
      "text/html": [
       "<div>\n",
       "<style scoped>\n",
       "    .dataframe tbody tr th:only-of-type {\n",
       "        vertical-align: middle;\n",
       "    }\n",
       "\n",
       "    .dataframe tbody tr th {\n",
       "        vertical-align: top;\n",
       "    }\n",
       "\n",
       "    .dataframe thead th {\n",
       "        text-align: right;\n",
       "    }\n",
       "</style>\n",
       "<table border=\"1\" class=\"dataframe\">\n",
       "  <thead>\n",
       "    <tr style=\"text-align: right;\">\n",
       "      <th></th>\n",
       "      <th>Song Clean</th>\n",
       "      <th>ARTIST CLEAN</th>\n",
       "      <th>Release Year</th>\n",
       "      <th>COMBINED</th>\n",
       "      <th>First?</th>\n",
       "      <th>Year?</th>\n",
       "      <th>PlayCount</th>\n",
       "      <th>F*G</th>\n",
       "    </tr>\n",
       "  </thead>\n",
       "  <tbody>\n",
       "    <tr>\n",
       "      <th>0</th>\n",
       "      <td>Caught Up in You</td>\n",
       "      <td>.38 Special</td>\n",
       "      <td>1982</td>\n",
       "      <td>Caught Up in You by .38 Special</td>\n",
       "      <td>1</td>\n",
       "      <td>1</td>\n",
       "      <td>82</td>\n",
       "      <td>82</td>\n",
       "    </tr>\n",
       "    <tr>\n",
       "      <th>1</th>\n",
       "      <td>Fantasy Girl</td>\n",
       "      <td>.38 Special</td>\n",
       "      <td>NaN</td>\n",
       "      <td>Fantasy Girl by .38 Special</td>\n",
       "      <td>1</td>\n",
       "      <td>0</td>\n",
       "      <td>3</td>\n",
       "      <td>0</td>\n",
       "    </tr>\n",
       "    <tr>\n",
       "      <th>2</th>\n",
       "      <td>Hold On Loosely</td>\n",
       "      <td>.38 Special</td>\n",
       "      <td>1981</td>\n",
       "      <td>Hold On Loosely by .38 Special</td>\n",
       "      <td>1</td>\n",
       "      <td>1</td>\n",
       "      <td>85</td>\n",
       "      <td>85</td>\n",
       "    </tr>\n",
       "    <tr>\n",
       "      <th>3</th>\n",
       "      <td>Rockin' Into the Night</td>\n",
       "      <td>.38 Special</td>\n",
       "      <td>1980</td>\n",
       "      <td>Rockin' Into the Night by .38 Special</td>\n",
       "      <td>1</td>\n",
       "      <td>1</td>\n",
       "      <td>18</td>\n",
       "      <td>18</td>\n",
       "    </tr>\n",
       "    <tr>\n",
       "      <th>4</th>\n",
       "      <td>Art For Arts Sake</td>\n",
       "      <td>10cc</td>\n",
       "      <td>1975</td>\n",
       "      <td>Art For Arts Sake by 10cc</td>\n",
       "      <td>1</td>\n",
       "      <td>1</td>\n",
       "      <td>1</td>\n",
       "      <td>1</td>\n",
       "    </tr>\n",
       "  </tbody>\n",
       "</table>\n",
       "</div>"
      ],
      "text/plain": [
       "               Song Clean ARTIST CLEAN Release Year  \\\n",
       "0        Caught Up in You  .38 Special         1982   \n",
       "1            Fantasy Girl  .38 Special          NaN   \n",
       "2         Hold On Loosely  .38 Special         1981   \n",
       "3  Rockin' Into the Night  .38 Special         1980   \n",
       "4       Art For Arts Sake         10cc         1975   \n",
       "\n",
       "                                COMBINED  First?  Year?  PlayCount  F*G  \n",
       "0        Caught Up in You by .38 Special       1      1         82   82  \n",
       "1            Fantasy Girl by .38 Special       1      0          3    0  \n",
       "2         Hold On Loosely by .38 Special       1      1         85   85  \n",
       "3  Rockin' Into the Night by .38 Special       1      1         18   18  \n",
       "4              Art For Arts Sake by 10cc       1      1          1    1  "
      ]
     },
     "execution_count": 16,
     "metadata": {
      "tags": []
     },
     "output_type": "execute_result"
    }
   ],
   "source": [
    "# select the first 5 rows\n",
    "df.head()"
   ]
  },
  {
   "cell_type": "code",
   "execution_count": 0,
   "metadata": {
    "colab": {
     "base_uri": "https://localhost:8080/",
     "height": 204
    },
    "colab_type": "code",
    "id": "HW7VbgANQ4i1",
    "outputId": "ca13e554-c767-41a9-eb36-bcafc48f0a61"
   },
   "outputs": [
    {
     "data": {
      "text/html": [
       "<div>\n",
       "<style scoped>\n",
       "    .dataframe tbody tr th:only-of-type {\n",
       "        vertical-align: middle;\n",
       "    }\n",
       "\n",
       "    .dataframe tbody tr th {\n",
       "        vertical-align: top;\n",
       "    }\n",
       "\n",
       "    .dataframe thead th {\n",
       "        text-align: right;\n",
       "    }\n",
       "</style>\n",
       "<table border=\"1\" class=\"dataframe\">\n",
       "  <thead>\n",
       "    <tr style=\"text-align: right;\">\n",
       "      <th></th>\n",
       "      <th>Song Clean</th>\n",
       "      <th>ARTIST CLEAN</th>\n",
       "      <th>Release Year</th>\n",
       "      <th>COMBINED</th>\n",
       "      <th>First?</th>\n",
       "      <th>Year?</th>\n",
       "      <th>PlayCount</th>\n",
       "      <th>F*G</th>\n",
       "    </tr>\n",
       "  </thead>\n",
       "  <tbody>\n",
       "    <tr>\n",
       "      <th>2224</th>\n",
       "      <td>She Loves My Automobile</td>\n",
       "      <td>ZZ Top</td>\n",
       "      <td>NaN</td>\n",
       "      <td>She Loves My Automobile by ZZ Top</td>\n",
       "      <td>1</td>\n",
       "      <td>0</td>\n",
       "      <td>1</td>\n",
       "      <td>0</td>\n",
       "    </tr>\n",
       "    <tr>\n",
       "      <th>2225</th>\n",
       "      <td>Tube Snake Boogie</td>\n",
       "      <td>ZZ Top</td>\n",
       "      <td>1981</td>\n",
       "      <td>Tube Snake Boogie by ZZ Top</td>\n",
       "      <td>1</td>\n",
       "      <td>1</td>\n",
       "      <td>32</td>\n",
       "      <td>32</td>\n",
       "    </tr>\n",
       "    <tr>\n",
       "      <th>2226</th>\n",
       "      <td>Tush</td>\n",
       "      <td>ZZ Top</td>\n",
       "      <td>1975</td>\n",
       "      <td>Tush by ZZ Top</td>\n",
       "      <td>1</td>\n",
       "      <td>1</td>\n",
       "      <td>109</td>\n",
       "      <td>109</td>\n",
       "    </tr>\n",
       "    <tr>\n",
       "      <th>2227</th>\n",
       "      <td>TV Dinners</td>\n",
       "      <td>ZZ Top</td>\n",
       "      <td>1983</td>\n",
       "      <td>TV Dinners by ZZ Top</td>\n",
       "      <td>1</td>\n",
       "      <td>1</td>\n",
       "      <td>1</td>\n",
       "      <td>1</td>\n",
       "    </tr>\n",
       "    <tr>\n",
       "      <th>2228</th>\n",
       "      <td>WAITIN' FOR THE BUS/JESUS JUST LEFT CHICAGO</td>\n",
       "      <td>ZZ Top</td>\n",
       "      <td>1973</td>\n",
       "      <td>WAITIN' FOR THE BUS/JESUS JUST LEFT CHICAGO by...</td>\n",
       "      <td>1</td>\n",
       "      <td>1</td>\n",
       "      <td>2</td>\n",
       "      <td>2</td>\n",
       "    </tr>\n",
       "  </tbody>\n",
       "</table>\n",
       "</div>"
      ],
      "text/plain": [
       "                                       Song Clean ARTIST CLEAN Release Year  \\\n",
       "2224                      She Loves My Automobile       ZZ Top          NaN   \n",
       "2225                            Tube Snake Boogie       ZZ Top         1981   \n",
       "2226                                         Tush       ZZ Top         1975   \n",
       "2227                                   TV Dinners       ZZ Top         1983   \n",
       "2228  WAITIN' FOR THE BUS/JESUS JUST LEFT CHICAGO       ZZ Top         1973   \n",
       "\n",
       "                                               COMBINED  First?  Year?  \\\n",
       "2224                  She Loves My Automobile by ZZ Top       1      0   \n",
       "2225                        Tube Snake Boogie by ZZ Top       1      1   \n",
       "2226                                     Tush by ZZ Top       1      1   \n",
       "2227                               TV Dinners by ZZ Top       1      1   \n",
       "2228  WAITIN' FOR THE BUS/JESUS JUST LEFT CHICAGO by...       1      1   \n",
       "\n",
       "      PlayCount  F*G  \n",
       "2224          1    0  \n",
       "2225         32   32  \n",
       "2226        109  109  \n",
       "2227          1    1  \n",
       "2228          2    2  "
      ]
     },
     "execution_count": 17,
     "metadata": {
      "tags": []
     },
     "output_type": "execute_result"
    }
   ],
   "source": [
    "# select the last 5 rows\n",
    "df.tail()"
   ]
  },
  {
   "cell_type": "code",
   "execution_count": 0,
   "metadata": {
    "colab": {
     "base_uri": "https://localhost:8080/",
     "height": 359
    },
    "colab_type": "code",
    "id": "nhUGZJuwRDFb",
    "outputId": "4857c0a6-1429-4163-f32d-5b94a6f6e80a"
   },
   "outputs": [
    {
     "data": {
      "text/html": [
       "<div>\n",
       "<style scoped>\n",
       "    .dataframe tbody tr th:only-of-type {\n",
       "        vertical-align: middle;\n",
       "    }\n",
       "\n",
       "    .dataframe tbody tr th {\n",
       "        vertical-align: top;\n",
       "    }\n",
       "\n",
       "    .dataframe thead th {\n",
       "        text-align: right;\n",
       "    }\n",
       "</style>\n",
       "<table border=\"1\" class=\"dataframe\">\n",
       "  <thead>\n",
       "    <tr style=\"text-align: right;\">\n",
       "      <th></th>\n",
       "      <th>Song Clean</th>\n",
       "      <th>ARTIST CLEAN</th>\n",
       "      <th>Release Year</th>\n",
       "      <th>COMBINED</th>\n",
       "      <th>First?</th>\n",
       "      <th>Year?</th>\n",
       "      <th>PlayCount</th>\n",
       "      <th>F*G</th>\n",
       "    </tr>\n",
       "  </thead>\n",
       "  <tbody>\n",
       "    <tr>\n",
       "      <th>0</th>\n",
       "      <td>Caught Up in You</td>\n",
       "      <td>.38 Special</td>\n",
       "      <td>1982</td>\n",
       "      <td>Caught Up in You by .38 Special</td>\n",
       "      <td>1</td>\n",
       "      <td>1</td>\n",
       "      <td>82</td>\n",
       "      <td>82</td>\n",
       "    </tr>\n",
       "    <tr>\n",
       "      <th>1</th>\n",
       "      <td>Fantasy Girl</td>\n",
       "      <td>.38 Special</td>\n",
       "      <td>NaN</td>\n",
       "      <td>Fantasy Girl by .38 Special</td>\n",
       "      <td>1</td>\n",
       "      <td>0</td>\n",
       "      <td>3</td>\n",
       "      <td>0</td>\n",
       "    </tr>\n",
       "    <tr>\n",
       "      <th>2</th>\n",
       "      <td>Hold On Loosely</td>\n",
       "      <td>.38 Special</td>\n",
       "      <td>1981</td>\n",
       "      <td>Hold On Loosely by .38 Special</td>\n",
       "      <td>1</td>\n",
       "      <td>1</td>\n",
       "      <td>85</td>\n",
       "      <td>85</td>\n",
       "    </tr>\n",
       "    <tr>\n",
       "      <th>3</th>\n",
       "      <td>Rockin' Into the Night</td>\n",
       "      <td>.38 Special</td>\n",
       "      <td>1980</td>\n",
       "      <td>Rockin' Into the Night by .38 Special</td>\n",
       "      <td>1</td>\n",
       "      <td>1</td>\n",
       "      <td>18</td>\n",
       "      <td>18</td>\n",
       "    </tr>\n",
       "    <tr>\n",
       "      <th>4</th>\n",
       "      <td>Art For Arts Sake</td>\n",
       "      <td>10cc</td>\n",
       "      <td>1975</td>\n",
       "      <td>Art For Arts Sake by 10cc</td>\n",
       "      <td>1</td>\n",
       "      <td>1</td>\n",
       "      <td>1</td>\n",
       "      <td>1</td>\n",
       "    </tr>\n",
       "    <tr>\n",
       "      <th>5</th>\n",
       "      <td>Kryptonite</td>\n",
       "      <td>3 Doors Down</td>\n",
       "      <td>2000</td>\n",
       "      <td>Kryptonite by 3 Doors Down</td>\n",
       "      <td>1</td>\n",
       "      <td>1</td>\n",
       "      <td>13</td>\n",
       "      <td>13</td>\n",
       "    </tr>\n",
       "    <tr>\n",
       "      <th>6</th>\n",
       "      <td>Loser</td>\n",
       "      <td>3 Doors Down</td>\n",
       "      <td>2000</td>\n",
       "      <td>Loser by 3 Doors Down</td>\n",
       "      <td>1</td>\n",
       "      <td>1</td>\n",
       "      <td>1</td>\n",
       "      <td>1</td>\n",
       "    </tr>\n",
       "    <tr>\n",
       "      <th>7</th>\n",
       "      <td>When I'm Gone</td>\n",
       "      <td>3 Doors Down</td>\n",
       "      <td>2002</td>\n",
       "      <td>When I'm Gone by 3 Doors Down</td>\n",
       "      <td>1</td>\n",
       "      <td>1</td>\n",
       "      <td>6</td>\n",
       "      <td>6</td>\n",
       "    </tr>\n",
       "    <tr>\n",
       "      <th>8</th>\n",
       "      <td>What's Up?</td>\n",
       "      <td>4 Non Blondes</td>\n",
       "      <td>1992</td>\n",
       "      <td>What's Up? by 4 Non Blondes</td>\n",
       "      <td>1</td>\n",
       "      <td>1</td>\n",
       "      <td>3</td>\n",
       "      <td>3</td>\n",
       "    </tr>\n",
       "    <tr>\n",
       "      <th>9</th>\n",
       "      <td>Take On Me</td>\n",
       "      <td>a-ha</td>\n",
       "      <td>1985</td>\n",
       "      <td>Take On Me by a-ha</td>\n",
       "      <td>1</td>\n",
       "      <td>1</td>\n",
       "      <td>1</td>\n",
       "      <td>1</td>\n",
       "    </tr>\n",
       "  </tbody>\n",
       "</table>\n",
       "</div>"
      ],
      "text/plain": [
       "               Song Clean   ARTIST CLEAN Release Year  \\\n",
       "0        Caught Up in You    .38 Special         1982   \n",
       "1            Fantasy Girl    .38 Special          NaN   \n",
       "2         Hold On Loosely    .38 Special         1981   \n",
       "3  Rockin' Into the Night    .38 Special         1980   \n",
       "4       Art For Arts Sake           10cc         1975   \n",
       "5              Kryptonite   3 Doors Down         2000   \n",
       "6                   Loser   3 Doors Down         2000   \n",
       "7           When I'm Gone   3 Doors Down         2002   \n",
       "8              What's Up?  4 Non Blondes         1992   \n",
       "9              Take On Me           a-ha         1985   \n",
       "\n",
       "                                COMBINED  First?  Year?  PlayCount  F*G  \n",
       "0        Caught Up in You by .38 Special       1      1         82   82  \n",
       "1            Fantasy Girl by .38 Special       1      0          3    0  \n",
       "2         Hold On Loosely by .38 Special       1      1         85   85  \n",
       "3  Rockin' Into the Night by .38 Special       1      1         18   18  \n",
       "4              Art For Arts Sake by 10cc       1      1          1    1  \n",
       "5             Kryptonite by 3 Doors Down       1      1         13   13  \n",
       "6                  Loser by 3 Doors Down       1      1          1    1  \n",
       "7          When I'm Gone by 3 Doors Down       1      1          6    6  \n",
       "8            What's Up? by 4 Non Blondes       1      1          3    3  \n",
       "9                     Take On Me by a-ha       1      1          1    1  "
      ]
     },
     "execution_count": 18,
     "metadata": {
      "tags": []
     },
     "output_type": "execute_result"
    }
   ],
   "source": [
    "# head() and tail() takes an optional number to vary the number of rows returned.\n",
    "# select the first 10 rows\n",
    "df.head(10)"
   ]
  },
  {
   "cell_type": "markdown",
   "metadata": {
    "colab_type": "text",
    "id": "gqd7kWz7T01B"
   },
   "source": [
    "Let us create a function that will print some of this basic information about the  DataFrame so that we can use it as we load up new DataFrames.\n"
   ]
  },
  {
   "cell_type": "code",
   "execution_count": 0,
   "metadata": {
    "colab": {},
    "colab_type": "code",
    "id": "TDdP-XB0USxE"
   },
   "outputs": [],
   "source": [
    "def printDataFrame(df):\n",
    "  print('The shape of this DataFrame is {}'.format(df.shape))\n",
    "  print('The columns in this DataFrame are {}'.format(df.columns))\n",
    "  print('The info:')\n",
    "  print(df.info())"
   ]
  },
  {
   "cell_type": "code",
   "execution_count": 0,
   "metadata": {
    "colab": {
     "base_uri": "https://localhost:8080/",
     "height": 434
    },
    "colab_type": "code",
    "id": "NPqy9PO2Ui1i",
    "outputId": "9913b778-4cb2-4b6f-e98b-6c489be79a9e"
   },
   "outputs": [
    {
     "name": "stdout",
     "output_type": "stream",
     "text": [
      "The shape of this DataFrame is (2229, 8)\n",
      "The columns in this DataFrame are Index(['Song Clean', 'ARTIST CLEAN', 'Release Year', 'COMBINED', 'First?',\n",
      "       'Year?', 'PlayCount', 'F*G'],\n",
      "      dtype='object')\n",
      "The info:\n",
      "<class 'pandas.core.frame.DataFrame'>\n",
      "RangeIndex: 2229 entries, 0 to 2228\n",
      "Data columns (total 8 columns):\n",
      "Song Clean      2229 non-null object\n",
      "ARTIST CLEAN    2229 non-null object\n",
      "Release Year    1652 non-null object\n",
      "COMBINED        2229 non-null object\n",
      "First?          2229 non-null int64\n",
      "Year?           2229 non-null int64\n",
      "PlayCount       2229 non-null int64\n",
      "F*G             2229 non-null int64\n",
      "dtypes: int64(4), object(4)\n",
      "memory usage: 139.4+ KB\n",
      "None\n"
     ]
    },
    {
     "data": {
      "text/html": [
       "<div>\n",
       "<style scoped>\n",
       "    .dataframe tbody tr th:only-of-type {\n",
       "        vertical-align: middle;\n",
       "    }\n",
       "\n",
       "    .dataframe tbody tr th {\n",
       "        vertical-align: top;\n",
       "    }\n",
       "\n",
       "    .dataframe thead th {\n",
       "        text-align: right;\n",
       "    }\n",
       "</style>\n",
       "<table border=\"1\" class=\"dataframe\">\n",
       "  <thead>\n",
       "    <tr style=\"text-align: right;\">\n",
       "      <th></th>\n",
       "      <th>Song Clean</th>\n",
       "      <th>ARTIST CLEAN</th>\n",
       "      <th>Release Year</th>\n",
       "      <th>COMBINED</th>\n",
       "      <th>First?</th>\n",
       "      <th>Year?</th>\n",
       "      <th>PlayCount</th>\n",
       "      <th>F*G</th>\n",
       "    </tr>\n",
       "  </thead>\n",
       "  <tbody>\n",
       "    <tr>\n",
       "      <th>0</th>\n",
       "      <td>Caught Up in You</td>\n",
       "      <td>.38 Special</td>\n",
       "      <td>1982</td>\n",
       "      <td>Caught Up in You by .38 Special</td>\n",
       "      <td>1</td>\n",
       "      <td>1</td>\n",
       "      <td>82</td>\n",
       "      <td>82</td>\n",
       "    </tr>\n",
       "    <tr>\n",
       "      <th>1</th>\n",
       "      <td>Fantasy Girl</td>\n",
       "      <td>.38 Special</td>\n",
       "      <td>NaN</td>\n",
       "      <td>Fantasy Girl by .38 Special</td>\n",
       "      <td>1</td>\n",
       "      <td>0</td>\n",
       "      <td>3</td>\n",
       "      <td>0</td>\n",
       "    </tr>\n",
       "  </tbody>\n",
       "</table>\n",
       "</div>"
      ],
      "text/plain": [
       "         Song Clean ARTIST CLEAN Release Year  \\\n",
       "0  Caught Up in You  .38 Special         1982   \n",
       "1      Fantasy Girl  .38 Special          NaN   \n",
       "\n",
       "                          COMBINED  First?  Year?  PlayCount  F*G  \n",
       "0  Caught Up in You by .38 Special       1      1         82   82  \n",
       "1      Fantasy Girl by .38 Special       1      0          3    0  "
      ]
     },
     "execution_count": 25,
     "metadata": {
      "tags": []
     },
     "output_type": "execute_result"
    }
   ],
   "source": [
    "printDataFrame(df)\n",
    "df.head(2)"
   ]
  },
  {
   "cell_type": "markdown",
   "metadata": {
    "colab_type": "text",
    "id": "y2pW3JSn8Mro"
   },
   "source": [
    "## From in memory lists\n",
    "\n",
    "Sometimes you need to create a DataFrame from in-memory data. For instance, suppose that you had the following league table for a popular sport:\n",
    "\n",
    "![Premier League](assets/python4_intro_03.png)\n",
    "\n",
    "Here's how we can create a DataFrame with that data."
   ]
  },
  {
   "cell_type": "code",
   "execution_count": 0,
   "metadata": {
    "colab": {
     "base_uri": "https://localhost:8080/",
     "height": 417
    },
    "colab_type": "code",
    "id": "rDzuckRO_3nB",
    "outputId": "c844b421-155d-459b-d16d-571e8737a441"
   },
   "outputs": [
    {
     "name": "stdout",
     "output_type": "stream",
     "text": [
      "The shape of this DataFrame is (5, 9)\n",
      "The columns in this DataFrame are Index(['club', 'MP', 'W', 'D', 'L', 'GF', 'GA', 'GD', 'Pts'], dtype='object')\n",
      "The info:\n",
      "<class 'pandas.core.frame.DataFrame'>\n",
      "RangeIndex: 5 entries, 0 to 4\n",
      "Data columns (total 9 columns):\n",
      "club    5 non-null object\n",
      "MP      5 non-null int64\n",
      "W       5 non-null int64\n",
      "D       5 non-null int64\n",
      "L       5 non-null int64\n",
      "GF      5 non-null int64\n",
      "GA      5 non-null int64\n",
      "GD      5 non-null int64\n",
      "Pts     5 non-null int64\n",
      "dtypes: int64(8), object(1)\n",
      "memory usage: 440.0+ bytes\n",
      "None\n"
     ]
    },
    {
     "data": {
      "text/html": [
       "<div>\n",
       "<style scoped>\n",
       "    .dataframe tbody tr th:only-of-type {\n",
       "        vertical-align: middle;\n",
       "    }\n",
       "\n",
       "    .dataframe tbody tr th {\n",
       "        vertical-align: top;\n",
       "    }\n",
       "\n",
       "    .dataframe thead th {\n",
       "        text-align: right;\n",
       "    }\n",
       "</style>\n",
       "<table border=\"1\" class=\"dataframe\">\n",
       "  <thead>\n",
       "    <tr style=\"text-align: right;\">\n",
       "      <th></th>\n",
       "      <th>club</th>\n",
       "      <th>MP</th>\n",
       "      <th>W</th>\n",
       "      <th>D</th>\n",
       "      <th>L</th>\n",
       "      <th>GF</th>\n",
       "      <th>GA</th>\n",
       "      <th>GD</th>\n",
       "      <th>Pts</th>\n",
       "    </tr>\n",
       "  </thead>\n",
       "  <tbody>\n",
       "    <tr>\n",
       "      <th>0</th>\n",
       "      <td>Man. City</td>\n",
       "      <td>29</td>\n",
       "      <td>23</td>\n",
       "      <td>2</td>\n",
       "      <td>4</td>\n",
       "      <td>76</td>\n",
       "      <td>20</td>\n",
       "      <td>56</td>\n",
       "      <td>71</td>\n",
       "    </tr>\n",
       "    <tr>\n",
       "      <th>1</th>\n",
       "      <td>Liverpool</td>\n",
       "      <td>29</td>\n",
       "      <td>21</td>\n",
       "      <td>7</td>\n",
       "      <td>1</td>\n",
       "      <td>64</td>\n",
       "      <td>15</td>\n",
       "      <td>49</td>\n",
       "      <td>70</td>\n",
       "    </tr>\n",
       "  </tbody>\n",
       "</table>\n",
       "</div>"
      ],
      "text/plain": [
       "        club  MP   W  D  L  GF  GA  GD  Pts\n",
       "0  Man. City  29  23  2  4  76  20  56   71\n",
       "1  Liverpool  29  21  7  1  64  15  49   70"
      ]
     },
     "execution_count": 4,
     "metadata": {
      "tags": []
     },
     "output_type": "execute_result"
    }
   ],
   "source": [
    "# Define a list of column labels\n",
    "columns = ['club', 'MP', 'W', 'D', 'L', 'GF', 'GA', 'GD', 'Pts']\n",
    "\n",
    "# Define rows\n",
    "rows = [\n",
    "    ['Man. City', 29, 23, 2, 4, 76, 20, 56, 71],\n",
    "    ['Liverpool', 29, 21, 7, 1, 64, 15, 49, 70],\n",
    "    ['Tottenham', 29, 20, 1, 8, 56, 30, 26, 61],\n",
    "    ['Man U', 29, 17, 7, 5, 58, 38, 20, 58],\n",
    "    ['Arsenal', 29, 17, 6, 6, 61, 39, 22, 57]\n",
    "]\n",
    "\n",
    "league_df = pd.DataFrame(data=rows, columns=columns)\n",
    "\n",
    "printDataFrame(league_df)\n",
    "league_df.head(2)"
   ]
  },
  {
   "cell_type": "markdown",
   "metadata": {
    "colab_type": "text",
    "id": "XpKK2f8bBqax"
   },
   "source": [
    "Our original data here was a list of lists. If the data was all of the same type Numpy arrays could be used too. This data was represented in a row-wise manner, which means that for each row, we had a single list.\n",
    "\n",
    "Alternatively, the data could be represented in memory with a dictionary object. In a dictionary, the data would be represented column-wise."
   ]
  },
  {
   "cell_type": "code",
   "execution_count": 0,
   "metadata": {
    "colab": {
     "base_uri": "https://localhost:8080/",
     "height": 417
    },
    "colab_type": "code",
    "id": "syyO09ThCSGr",
    "outputId": "8d6ad8f1-9c36-4272-d78d-6e03d95f9082"
   },
   "outputs": [
    {
     "name": "stdout",
     "output_type": "stream",
     "text": [
      "The shape of this DataFrame is (5, 9)\n",
      "The columns in this DataFrame are Index(['D', 'GA', 'GD', 'GF', 'L', 'MP', 'Pts', 'W', 'club'], dtype='object')\n",
      "The info:\n",
      "<class 'pandas.core.frame.DataFrame'>\n",
      "RangeIndex: 5 entries, 0 to 4\n",
      "Data columns (total 9 columns):\n",
      "D       5 non-null int64\n",
      "GA      5 non-null int64\n",
      "GD      5 non-null int64\n",
      "GF      5 non-null int64\n",
      "L       5 non-null int64\n",
      "MP      5 non-null int64\n",
      "Pts     5 non-null int64\n",
      "W       5 non-null int64\n",
      "club    5 non-null object\n",
      "dtypes: int64(8), object(1)\n",
      "memory usage: 440.0+ bytes\n",
      "None\n"
     ]
    },
    {
     "data": {
      "text/html": [
       "<div>\n",
       "<style scoped>\n",
       "    .dataframe tbody tr th:only-of-type {\n",
       "        vertical-align: middle;\n",
       "    }\n",
       "\n",
       "    .dataframe tbody tr th {\n",
       "        vertical-align: top;\n",
       "    }\n",
       "\n",
       "    .dataframe thead th {\n",
       "        text-align: right;\n",
       "    }\n",
       "</style>\n",
       "<table border=\"1\" class=\"dataframe\">\n",
       "  <thead>\n",
       "    <tr style=\"text-align: right;\">\n",
       "      <th></th>\n",
       "      <th>D</th>\n",
       "      <th>GA</th>\n",
       "      <th>GD</th>\n",
       "      <th>GF</th>\n",
       "      <th>L</th>\n",
       "      <th>MP</th>\n",
       "      <th>Pts</th>\n",
       "      <th>W</th>\n",
       "      <th>club</th>\n",
       "    </tr>\n",
       "  </thead>\n",
       "  <tbody>\n",
       "    <tr>\n",
       "      <th>0</th>\n",
       "      <td>2</td>\n",
       "      <td>20</td>\n",
       "      <td>56</td>\n",
       "      <td>76</td>\n",
       "      <td>4</td>\n",
       "      <td>29</td>\n",
       "      <td>71</td>\n",
       "      <td>23</td>\n",
       "      <td>Man. City</td>\n",
       "    </tr>\n",
       "    <tr>\n",
       "      <th>1</th>\n",
       "      <td>7</td>\n",
       "      <td>15</td>\n",
       "      <td>49</td>\n",
       "      <td>64</td>\n",
       "      <td>1</td>\n",
       "      <td>29</td>\n",
       "      <td>70</td>\n",
       "      <td>21</td>\n",
       "      <td>Liverpool</td>\n",
       "    </tr>\n",
       "  </tbody>\n",
       "</table>\n",
       "</div>"
      ],
      "text/plain": [
       "   D  GA  GD  GF  L  MP  Pts   W       club\n",
       "0  2  20  56  76  4  29   71  23  Man. City\n",
       "1  7  15  49  64  1  29   70  21  Liverpool"
      ]
     },
     "execution_count": 5,
     "metadata": {
      "tags": []
     },
     "output_type": "execute_result"
    }
   ],
   "source": [
    "league_dict = {\n",
    "    'club' : ['Man. City', 'Liverpool', 'Tottenham', 'Man U', 'Arsenal'],\n",
    "    'MP' : [29, 29, 29, 29, 29],\n",
    "    'W' : [23, 21, 20, 17, 17],\n",
    "    'D' : [2, 7, 1, 7, 6],\n",
    "    'L' : [4, 1, 8, 5, 6],\n",
    "    'GF' : [76, 64, 56, 38, 39],\n",
    "    'GA' : [20, 15, 30, 20, 39],\n",
    "    'GD' : [56, 49, 26, 20, 22],\n",
    "    'Pts' : [71, 70, 61, 58, 57]\n",
    "}\n",
    "\n",
    "league_df = pd.DataFrame(league_dict)\n",
    "\n",
    "printDataFrame(league_df)\n",
    "league_df.head(2)"
   ]
  },
  {
   "cell_type": "markdown",
   "metadata": {
    "colab_type": "text",
    "id": "leqCkRImFmSx"
   },
   "source": [
    "## From JSON\n",
    "\n",
    "JSON (JavaScript Object Notation) is another ubiquitous format for data storage and distribution. JSON is easy to parse and understand, and it is well supported by most languages including Python.\n",
    "\n",
    "The *shots.json* file contain vaccination shots given in Texas. It contains an array of data that looks like this:\n",
    "\n",
    "```\n",
    "[\n",
    "  {\"location\":\"Far South\",\"month\":\"OCT\",\"number_of_shots\":\"1118\",\"program_name\":\"Shots for Tots\",\"visits\":\"436\",\"year\":\"2010\"},\n",
    "  {\"location\":\"Far South\",\"month\":\"NOV\",\"number_of_shots\":\"1600\",\"program_name\":\"Shots for Tots\",\"visits\":\"879\",\"year\":\"2010\"},\n",
    "  {\"location\":\"Far South\",\"month\":\"DEC\",\"number_of_shots\":\"1379\",\"program_name\":\"Shots for Tots\",\"visits\":\"818\",\"year\":\"2010\"}\n",
    ",\n",
    "...\n",
    "]\n",
    "```\n",
    "\n",
    "The data consists of an array of objects representing clinics. Each object has the location,  month abd year, number of shots given, and number of visitors."
   ]
  },
  {
   "cell_type": "code",
   "execution_count": 0,
   "metadata": {
    "colab": {
     "base_uri": "https://localhost:8080/",
     "height": 400
    },
    "colab_type": "code",
    "id": "JaaPy5TRQTQz",
    "outputId": "16cf41c9-8a95-4222-c4ef-7180d0c5f970"
   },
   "outputs": [
    {
     "name": "stdout",
     "output_type": "stream",
     "text": [
      "The shape of this DataFrame is (432, 6)\n",
      "The columns in this DataFrame are Index(['location', 'month', 'number_of_shots', 'program_name', 'visits',\n",
      "       'year'],\n",
      "      dtype='object')\n",
      "The info:\n",
      "<class 'pandas.core.frame.DataFrame'>\n",
      "Int64Index: 432 entries, 0 to 431\n",
      "Data columns (total 6 columns):\n",
      "location           432 non-null object\n",
      "month              432 non-null object\n",
      "number_of_shots    432 non-null int64\n",
      "program_name       432 non-null object\n",
      "visits             432 non-null int64\n",
      "year               432 non-null int64\n",
      "dtypes: int64(3), object(3)\n",
      "memory usage: 23.6+ KB\n",
      "None\n"
     ]
    },
    {
     "data": {
      "text/html": [
       "<div>\n",
       "<style scoped>\n",
       "    .dataframe tbody tr th:only-of-type {\n",
       "        vertical-align: middle;\n",
       "    }\n",
       "\n",
       "    .dataframe tbody tr th {\n",
       "        vertical-align: top;\n",
       "    }\n",
       "\n",
       "    .dataframe thead th {\n",
       "        text-align: right;\n",
       "    }\n",
       "</style>\n",
       "<table border=\"1\" class=\"dataframe\">\n",
       "  <thead>\n",
       "    <tr style=\"text-align: right;\">\n",
       "      <th></th>\n",
       "      <th>location</th>\n",
       "      <th>month</th>\n",
       "      <th>number_of_shots</th>\n",
       "      <th>program_name</th>\n",
       "      <th>visits</th>\n",
       "      <th>year</th>\n",
       "    </tr>\n",
       "  </thead>\n",
       "  <tbody>\n",
       "    <tr>\n",
       "      <th>0</th>\n",
       "      <td>Far South</td>\n",
       "      <td>OCT</td>\n",
       "      <td>1118</td>\n",
       "      <td>Shots for Tots</td>\n",
       "      <td>436</td>\n",
       "      <td>2010</td>\n",
       "    </tr>\n",
       "    <tr>\n",
       "      <th>1</th>\n",
       "      <td>Far South</td>\n",
       "      <td>NOV</td>\n",
       "      <td>1600</td>\n",
       "      <td>Shots for Tots</td>\n",
       "      <td>879</td>\n",
       "      <td>2010</td>\n",
       "    </tr>\n",
       "  </tbody>\n",
       "</table>\n",
       "</div>"
      ],
      "text/plain": [
       "    location month  number_of_shots    program_name  visits  year\n",
       "0  Far South   OCT             1118  Shots for Tots     436  2010\n",
       "1  Far South   NOV             1600  Shots for Tots     879  2010"
      ]
     },
     "execution_count": 9,
     "metadata": {
      "tags": []
     },
     "output_type": "execute_result"
    }
   ],
   "source": [
    "shots_df = pd.read_json('https://tf-assets-prod.s3.amazonaws.com/tf-curric/data-analytics-bootcamp/shots.json')\n",
    "\n",
    "printDataFrame(shots_df)\n",
    "shots_df.head(2)"
   ]
  },
  {
   "cell_type": "markdown",
   "metadata": {
    "colab_type": "text",
    "id": "A4N-k-67XClK"
   },
   "source": [
    "## From databases\n",
    "\n",
    "You already have learned how to work with relational databases. Sometimes you'll want to get data from one more more databases into Pandas. To do that, we'll use what we already learned about Python + Postgres + the SQLAlchemy library.  We'll use those tools to generate a DataFrame from the results of SQL queries."
   ]
  },
  {
   "cell_type": "code",
   "execution_count": 0,
   "metadata": {
    "colab": {
     "base_uri": "https://localhost:8080/",
     "height": 437
    },
    "colab_type": "code",
    "id": "IlpiNY5ukaCj",
    "outputId": "eedb42a4-649d-495f-c2ca-7676f3055656"
   },
   "outputs": [
    {
     "name": "stderr",
     "output_type": "stream",
     "text": [
      "/usr/local/lib/python3.6/dist-packages/psycopg2/__init__.py:144: UserWarning: The psycopg2 wheel package will be renamed from release 2.8; in order to keep installing from binary please use \"pip install psycopg2-binary\" instead. For details see: <http://initd.org/psycopg/docs/install.html#binary-install-from-pypi>.\n",
      "  \"\"\")\n"
     ]
    },
    {
     "name": "stdout",
     "output_type": "stream",
     "text": [
      "The shape of this DataFrame is (1338, 7)\n",
      "The columns in this DataFrame are Index(['age', 'sex', 'bmi', 'children', 'smoker', 'region', 'charges'], dtype='object')\n",
      "The info:\n",
      "<class 'pandas.core.frame.DataFrame'>\n",
      "RangeIndex: 1338 entries, 0 to 1337\n",
      "Data columns (total 7 columns):\n",
      "age         1338 non-null int64\n",
      "sex         1338 non-null object\n",
      "bmi         1338 non-null float64\n",
      "children    1338 non-null int64\n",
      "smoker      1338 non-null object\n",
      "region      1338 non-null object\n",
      "charges     1338 non-null float64\n",
      "dtypes: float64(2), int64(2), object(3)\n",
      "memory usage: 73.2+ KB\n",
      "None\n"
     ]
    },
    {
     "data": {
      "text/html": [
       "<div>\n",
       "<style scoped>\n",
       "    .dataframe tbody tr th:only-of-type {\n",
       "        vertical-align: middle;\n",
       "    }\n",
       "\n",
       "    .dataframe tbody tr th {\n",
       "        vertical-align: top;\n",
       "    }\n",
       "\n",
       "    .dataframe thead th {\n",
       "        text-align: right;\n",
       "    }\n",
       "</style>\n",
       "<table border=\"1\" class=\"dataframe\">\n",
       "  <thead>\n",
       "    <tr style=\"text-align: right;\">\n",
       "      <th></th>\n",
       "      <th>age</th>\n",
       "      <th>sex</th>\n",
       "      <th>bmi</th>\n",
       "      <th>children</th>\n",
       "      <th>smoker</th>\n",
       "      <th>region</th>\n",
       "      <th>charges</th>\n",
       "    </tr>\n",
       "  </thead>\n",
       "  <tbody>\n",
       "    <tr>\n",
       "      <th>0</th>\n",
       "      <td>19</td>\n",
       "      <td>female</td>\n",
       "      <td>27.90</td>\n",
       "      <td>0</td>\n",
       "      <td>yes</td>\n",
       "      <td>southwest</td>\n",
       "      <td>16884.90</td>\n",
       "    </tr>\n",
       "    <tr>\n",
       "      <th>1</th>\n",
       "      <td>18</td>\n",
       "      <td>male</td>\n",
       "      <td>33.77</td>\n",
       "      <td>1</td>\n",
       "      <td>no</td>\n",
       "      <td>southeast</td>\n",
       "      <td>1725.55</td>\n",
       "    </tr>\n",
       "  </tbody>\n",
       "</table>\n",
       "</div>"
      ],
      "text/plain": [
       "   age     sex    bmi  children smoker     region   charges\n",
       "0   19  female  27.90         0    yes  southwest  16884.90\n",
       "1   18    male  33.77         1     no  southeast   1725.55"
      ]
     },
     "execution_count": 7,
     "metadata": {
      "tags": []
     },
     "output_type": "execute_result"
    }
   ],
   "source": [
    "# import SQLAlchemy\n",
    "from sqlalchemy import create_engine\n",
    "\n",
    "# Database credentials\n",
    "postgres_user = 'dsbc_student'\n",
    "postgres_pw = '7*.8G9QH21'\n",
    "postgres_host = '142.93.121.174'\n",
    "postgres_port = '5432'\n",
    "postgres_db = 'medicalcosts'\n",
    "\n",
    "# Create a connection\n",
    "engine = create_engine('postgresql://{}:{}@{}:{}/{}'.format(\n",
    "    postgres_user, postgres_pw, postgres_host, postgres_port, postgres_db))\n",
    "\n",
    "# Use a database table to create a DataFrame\n",
    "insurance_df = pd.read_sql_table('medicalcosts', con=engine)\n",
    "\n",
    "# remove the connection\n",
    "engine.dispose()\n",
    "\n",
    "# Lets see some details of the DataFrame\n",
    "printDataFrame(insurance_df)\n",
    "insurance_df.head(2)"
   ]
  },
  {
   "cell_type": "markdown",
   "metadata": {
    "colab_type": "text",
    "id": "e3-gZNkUoAUa"
   },
   "source": [
    "With this query, we can now think of the dataframe as an in-memory representation of an entire database table.  It's equally possible to create DataFrames from queries featuring filters or joins."
   ]
  },
  {
   "cell_type": "code",
   "execution_count": 0,
   "metadata": {
    "colab": {
     "base_uri": "https://localhost:8080/",
     "height": 332
    },
    "colab_type": "code",
    "id": "yYVc7B-2rUoS",
    "outputId": "004cdf37-1e6f-43c2-bf8c-56b498652034"
   },
   "outputs": [
    {
     "name": "stdout",
     "output_type": "stream",
     "text": [
      "The shape of this DataFrame is (662, 4)\n",
      "The columns in this DataFrame are Index(['age', 'bmi', 'smoker', 'region'], dtype='object')\n",
      "The info:\n",
      "<class 'pandas.core.frame.DataFrame'>\n",
      "RangeIndex: 662 entries, 0 to 661\n",
      "Data columns (total 4 columns):\n",
      "age       662 non-null int64\n",
      "bmi       662 non-null float64\n",
      "smoker    662 non-null object\n",
      "region    662 non-null object\n",
      "dtypes: float64(1), int64(1), object(2)\n",
      "memory usage: 20.8+ KB\n",
      "None\n"
     ]
    },
    {
     "data": {
      "text/html": [
       "<div>\n",
       "<style scoped>\n",
       "    .dataframe tbody tr th:only-of-type {\n",
       "        vertical-align: middle;\n",
       "    }\n",
       "\n",
       "    .dataframe tbody tr th {\n",
       "        vertical-align: top;\n",
       "    }\n",
       "\n",
       "    .dataframe thead th {\n",
       "        text-align: right;\n",
       "    }\n",
       "</style>\n",
       "<table border=\"1\" class=\"dataframe\">\n",
       "  <thead>\n",
       "    <tr style=\"text-align: right;\">\n",
       "      <th></th>\n",
       "      <th>age</th>\n",
       "      <th>bmi</th>\n",
       "      <th>smoker</th>\n",
       "      <th>region</th>\n",
       "    </tr>\n",
       "  </thead>\n",
       "  <tbody>\n",
       "    <tr>\n",
       "      <th>0</th>\n",
       "      <td>19</td>\n",
       "      <td>27.90</td>\n",
       "      <td>yes</td>\n",
       "      <td>southwest</td>\n",
       "    </tr>\n",
       "    <tr>\n",
       "      <th>1</th>\n",
       "      <td>31</td>\n",
       "      <td>25.74</td>\n",
       "      <td>no</td>\n",
       "      <td>southeast</td>\n",
       "    </tr>\n",
       "  </tbody>\n",
       "</table>\n",
       "</div>"
      ],
      "text/plain": [
       "   age    bmi smoker     region\n",
       "0   19  27.90    yes  southwest\n",
       "1   31  25.74     no  southeast"
      ]
     },
     "execution_count": 8,
     "metadata": {
      "tags": []
     },
     "output_type": "execute_result"
    }
   ],
   "source": [
    "# Execute a query and create a DataFrame\n",
    "females_df = pd.read_sql_query(\"SELECT age, bmi, smoker, region from medicalcosts WHERE sex = 'female'\", con=engine)\n",
    "\n",
    "# remove the connection\n",
    "engine.dispose()\n",
    "\n",
    "# Lets see some details of the DataFrame\n",
    "printDataFrame(females_df)\n",
    "females_df.head(2)"
   ]
  }
 ],
 "metadata": {
  "colab": {
   "collapsed_sections": [],
   "name": "python-intro-pandas.ipynb",
   "provenance": [],
   "version": "0.3.2"
  },
  "kernelspec": {
   "display_name": "Python 3",
   "language": "python",
   "name": "python3"
  },
  "language_info": {
   "codemirror_mode": {
    "name": "ipython",
    "version": 3
   },
   "file_extension": ".py",
   "mimetype": "text/x-python",
   "name": "python",
   "nbconvert_exporter": "python",
   "pygments_lexer": "ipython3",
   "version": "3.7.1"
  }
 },
 "nbformat": 4,
 "nbformat_minor": 1
}
